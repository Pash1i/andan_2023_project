{
 "cells": [
  {
   "cell_type": "code",
   "execution_count": 59,
   "id": "8e652d77",
   "metadata": {},
   "outputs": [],
   "source": [
    "import numpy as np\n",
    "import matplotlib.pyplot as plt\n",
    "import pandas as pd \n",
    "import scipy.stats as stats\n",
    "\n",
    "import nltk\n",
    "from nltk.tokenize import word_tokenize\n",
    "from nltk.corpus import stopwords\n",
    "\n",
    "\n",
    "import warnings\n",
    "warnings.filterwarnings(\"ignore\")"
   ]
  },
  {
   "cell_type": "code",
   "execution_count": 5,
   "id": "1f31422c",
   "metadata": {},
   "outputs": [],
   "source": [
    "data = pd.read_csv('data.csv').drop('Unnamed: 0', axis = 1)"
   ]
  },
  {
   "cell_type": "code",
   "execution_count": 15,
   "id": "5cc1a786",
   "metadata": {},
   "outputs": [],
   "source": [
    "no_text_idx = data[data.text.isna()].index"
   ]
  },
  {
   "cell_type": "code",
   "execution_count": 16,
   "id": "387db6cb",
   "metadata": {},
   "outputs": [],
   "source": [
    "with_text = data.drop(index = no_text_idx)"
   ]
  },
  {
   "cell_type": "code",
   "execution_count": 17,
   "id": "5039b3fa",
   "metadata": {},
   "outputs": [
    {
     "data": {
      "text/html": [
       "<div>\n",
       "<style scoped>\n",
       "    .dataframe tbody tr th:only-of-type {\n",
       "        vertical-align: middle;\n",
       "    }\n",
       "\n",
       "    .dataframe tbody tr th {\n",
       "        vertical-align: top;\n",
       "    }\n",
       "\n",
       "    .dataframe thead th {\n",
       "        text-align: right;\n",
       "    }\n",
       "</style>\n",
       "<table border=\"1\" class=\"dataframe\">\n",
       "  <thead>\n",
       "    <tr style=\"text-align: right;\">\n",
       "      <th></th>\n",
       "      <th>author</th>\n",
       "      <th>date</th>\n",
       "      <th>text</th>\n",
       "      <th>n_likes</th>\n",
       "      <th>n_reposts</th>\n",
       "      <th>with_photo</th>\n",
       "      <th>is_repost?</th>\n",
       "    </tr>\n",
       "  </thead>\n",
       "  <tbody>\n",
       "    <tr>\n",
       "      <th>0</th>\n",
       "      <td>dying</td>\n",
       "      <td>17 авг 2015</td>\n",
       "      <td>хочу видеть тебя каждый день</td>\n",
       "      <td>14351</td>\n",
       "      <td>325</td>\n",
       "      <td>False</td>\n",
       "      <td>False</td>\n",
       "    </tr>\n",
       "    <tr>\n",
       "      <th>1</th>\n",
       "      <td>dying</td>\n",
       "      <td>17 авг 2015</td>\n",
       "      <td>Живёшь живёшь, и тут в твоей жизни появляется ...</td>\n",
       "      <td>7098</td>\n",
       "      <td>144</td>\n",
       "      <td>False</td>\n",
       "      <td>False</td>\n",
       "    </tr>\n",
       "    <tr>\n",
       "      <th>2</th>\n",
       "      <td>dying</td>\n",
       "      <td>17 авг 2015</td>\n",
       "      <td>- По кому скучаешь?\\n- По Наташе</td>\n",
       "      <td>6439</td>\n",
       "      <td>121</td>\n",
       "      <td>False</td>\n",
       "      <td>False</td>\n",
       "    </tr>\n",
       "    <tr>\n",
       "      <th>3</th>\n",
       "      <td>dying</td>\n",
       "      <td>17 авг 2015</td>\n",
       "      <td>и дай Бог каждому быть с тем, с кем сердце не ...</td>\n",
       "      <td>8469</td>\n",
       "      <td>221</td>\n",
       "      <td>False</td>\n",
       "      <td>False</td>\n",
       "    </tr>\n",
       "    <tr>\n",
       "      <th>4</th>\n",
       "      <td>dying</td>\n",
       "      <td>17 авг 2015</td>\n",
       "      <td>Моя Арина милашка\\nМоя Арина бандитка\\nМоя Ари...</td>\n",
       "      <td>3704</td>\n",
       "      <td>71</td>\n",
       "      <td>False</td>\n",
       "      <td>False</td>\n",
       "    </tr>\n",
       "    <tr>\n",
       "      <th>...</th>\n",
       "      <td>...</td>\n",
       "      <td>...</td>\n",
       "      <td>...</td>\n",
       "      <td>...</td>\n",
       "      <td>...</td>\n",
       "      <td>...</td>\n",
       "      <td>...</td>\n",
       "    </tr>\n",
       "    <tr>\n",
       "      <th>9984</th>\n",
       "      <td>dying</td>\n",
       "      <td>30 окт 2014</td>\n",
       "      <td>- Как тебя Земля носит?\\n- Ну, гравитация и ты...</td>\n",
       "      <td>263</td>\n",
       "      <td>7</td>\n",
       "      <td>False</td>\n",
       "      <td>False</td>\n",
       "    </tr>\n",
       "    <tr>\n",
       "      <th>9985</th>\n",
       "      <td>dying</td>\n",
       "      <td>30 окт 2014</td>\n",
       "      <td>сохрани нежность</td>\n",
       "      <td>67</td>\n",
       "      <td>0</td>\n",
       "      <td>False</td>\n",
       "      <td>False</td>\n",
       "    </tr>\n",
       "    <tr>\n",
       "      <th>9986</th>\n",
       "      <td>dying</td>\n",
       "      <td>30 окт 2014</td>\n",
       "      <td>Если у тебя на лице прыщики, не комплексуй. По...</td>\n",
       "      <td>133</td>\n",
       "      <td>4</td>\n",
       "      <td>False</td>\n",
       "      <td>False</td>\n",
       "    </tr>\n",
       "    <tr>\n",
       "      <th>9987</th>\n",
       "      <td>dying</td>\n",
       "      <td>30 окт 2014</td>\n",
       "      <td>- Вы такая милая пара! Когда я вас вижу, вы вс...</td>\n",
       "      <td>636</td>\n",
       "      <td>12</td>\n",
       "      <td>False</td>\n",
       "      <td>False</td>\n",
       "    </tr>\n",
       "    <tr>\n",
       "      <th>9988</th>\n",
       "      <td>dying</td>\n",
       "      <td>30 окт 2014</td>\n",
       "      <td>я не кукла и не игрушка , я девочка, которая м...</td>\n",
       "      <td>189</td>\n",
       "      <td>2</td>\n",
       "      <td>False</td>\n",
       "      <td>False</td>\n",
       "    </tr>\n",
       "  </tbody>\n",
       "</table>\n",
       "<p>9809 rows × 7 columns</p>\n",
       "</div>"
      ],
      "text/plain": [
       "     author         date                                               text  \\\n",
       "0     dying  17 авг 2015                       хочу видеть тебя каждый день   \n",
       "1     dying  17 авг 2015  Живёшь живёшь, и тут в твоей жизни появляется ...   \n",
       "2     dying  17 авг 2015                   - По кому скучаешь?\\n- По Наташе   \n",
       "3     dying  17 авг 2015  и дай Бог каждому быть с тем, с кем сердце не ...   \n",
       "4     dying  17 авг 2015  Моя Арина милашка\\nМоя Арина бандитка\\nМоя Ари...   \n",
       "...     ...          ...                                                ...   \n",
       "9984  dying  30 окт 2014  - Как тебя Земля носит?\\n- Ну, гравитация и ты...   \n",
       "9985  dying  30 окт 2014                                   сохрани нежность   \n",
       "9986  dying  30 окт 2014  Если у тебя на лице прыщики, не комплексуй. По...   \n",
       "9987  dying  30 окт 2014  - Вы такая милая пара! Когда я вас вижу, вы вс...   \n",
       "9988  dying  30 окт 2014  я не кукла и не игрушка , я девочка, которая м...   \n",
       "\n",
       "      n_likes  n_reposts  with_photo  is_repost?  \n",
       "0       14351        325       False       False  \n",
       "1        7098        144       False       False  \n",
       "2        6439        121       False       False  \n",
       "3        8469        221       False       False  \n",
       "4        3704         71       False       False  \n",
       "...       ...        ...         ...         ...  \n",
       "9984      263          7       False       False  \n",
       "9985       67          0       False       False  \n",
       "9986      133          4       False       False  \n",
       "9987      636         12       False       False  \n",
       "9988      189          2       False       False  \n",
       "\n",
       "[9809 rows x 7 columns]"
      ]
     },
     "execution_count": 17,
     "metadata": {},
     "output_type": "execute_result"
    }
   ],
   "source": [
    "with_text['text']"
   ]
  },
  {
   "cell_type": "code",
   "execution_count": 18,
   "id": "45318184",
   "metadata": {},
   "outputs": [],
   "source": [
    "from string import punctuation"
   ]
  },
  {
   "cell_type": "code",
   "execution_count": 19,
   "id": "f2a7af17",
   "metadata": {},
   "outputs": [
    {
     "name": "stdout",
     "output_type": "stream",
     "text": [
      "Collecting pymystem3\n",
      "  Downloading pymystem3-0.2.0-py3-none-any.whl (10 kB)\n",
      "Requirement already satisfied: requests in c:\\users\\inoke\\anaconda3\\lib\\site-packages (from pymystem3) (2.27.1)\n",
      "Requirement already satisfied: certifi>=2017.4.17 in c:\\users\\inoke\\anaconda3\\lib\\site-packages (from requests->pymystem3) (2022.12.7)\n"
     ]
    },
    {
     "name": "stderr",
     "output_type": "stream",
     "text": [
      "\n",
      "[notice] A new release of pip is available: 23.0.1 -> 23.1.2\n",
      "[notice] To update, run: python.exe -m pip install --upgrade pip\n"
     ]
    },
    {
     "name": "stdout",
     "output_type": "stream",
     "text": [
      "Requirement already satisfied: urllib3<1.27,>=1.21.1 in c:\\users\\inoke\\anaconda3\\lib\\site-packages (from requests->pymystem3) (1.26.7)\n",
      "Requirement already satisfied: idna<4,>=2.5 in c:\\users\\inoke\\anaconda3\\lib\\site-packages (from requests->pymystem3) (3.2)\n",
      "Requirement already satisfied: charset-normalizer~=2.0.0 in c:\\users\\inoke\\anaconda3\\lib\\site-packages (from requests->pymystem3) (2.0.4)\n",
      "Installing collected packages: pymystem3\n",
      "Successfully installed pymystem3-0.2.0\n"
     ]
    }
   ],
   "source": [
    "!pip install pymystem3"
   ]
  },
  {
   "cell_type": "code",
   "execution_count": 21,
   "id": "101afa21",
   "metadata": {},
   "outputs": [],
   "source": [
    "with_text['text'] = with_text['text'].apply(lambda x: ' '.join(x.split('\\n')))"
   ]
  },
  {
   "cell_type": "code",
   "execution_count": 32,
   "id": "6de6f5a6",
   "metadata": {},
   "outputs": [],
   "source": [
    "with_text.reset_index(inplace = True)"
   ]
  },
  {
   "cell_type": "code",
   "execution_count": 35,
   "id": "6a91c052",
   "metadata": {},
   "outputs": [],
   "source": [
    "with_text.drop('index', axis = 1, inplace = True)"
   ]
  },
  {
   "cell_type": "markdown",
   "id": "225c199a",
   "metadata": {},
   "source": [
    "Лемматизация"
   ]
  },
  {
   "cell_type": "code",
   "execution_count": 24,
   "id": "a900f301",
   "metadata": {},
   "outputs": [
    {
     "name": "stderr",
     "output_type": "stream",
     "text": [
      "Installing mystem to C:\\Users\\inoke/.local/bin\\mystem.exe from http://download.cdn.yandex.net/mystem/mystem-3.1-win-64bit.zip\n"
     ]
    }
   ],
   "source": [
    "from pymystem3 import Mystem\n",
    "\n",
    "mystem_analyzer = Mystem()"
   ]
  },
  {
   "cell_type": "markdown",
   "id": "0224fb26",
   "metadata": {},
   "source": [
    "Не трогайте ячейку ниже, она отрабатывалась полтора часа)"
   ]
  },
  {
   "cell_type": "code",
   "execution_count": 43,
   "id": "9a0d4256",
   "metadata": {},
   "outputs": [],
   "source": [
    "with_text['text'] = with_text['text'].apply(lambda x: ' '.join(mystem_analyzer.lemmatize(x)[:-1]))"
   ]
  },
  {
   "cell_type": "code",
   "execution_count": 45,
   "id": "b9059bd6",
   "metadata": {},
   "outputs": [],
   "source": [
    "with_text.to_csv('lemmatized.csv')"
   ]
  },
  {
   "cell_type": "code",
   "execution_count": 46,
   "id": "8bfc90bd",
   "metadata": {},
   "outputs": [
    {
     "data": {
      "text/html": [
       "<div>\n",
       "<style scoped>\n",
       "    .dataframe tbody tr th:only-of-type {\n",
       "        vertical-align: middle;\n",
       "    }\n",
       "\n",
       "    .dataframe tbody tr th {\n",
       "        vertical-align: top;\n",
       "    }\n",
       "\n",
       "    .dataframe thead th {\n",
       "        text-align: right;\n",
       "    }\n",
       "</style>\n",
       "<table border=\"1\" class=\"dataframe\">\n",
       "  <thead>\n",
       "    <tr style=\"text-align: right;\">\n",
       "      <th></th>\n",
       "      <th>author</th>\n",
       "      <th>date</th>\n",
       "      <th>text</th>\n",
       "      <th>n_likes</th>\n",
       "      <th>n_reposts</th>\n",
       "      <th>with_photo</th>\n",
       "      <th>is_repost?</th>\n",
       "    </tr>\n",
       "  </thead>\n",
       "  <tbody>\n",
       "    <tr>\n",
       "      <th>0</th>\n",
       "      <td>dying</td>\n",
       "      <td>17 авг 2015</td>\n",
       "      <td>хотеть   видеть   ты   каждый   день</td>\n",
       "      <td>14351</td>\n",
       "      <td>325</td>\n",
       "      <td>False</td>\n",
       "      <td>False</td>\n",
       "    </tr>\n",
       "    <tr>\n",
       "      <th>1</th>\n",
       "      <td>dying</td>\n",
       "      <td>17 авг 2015</td>\n",
       "      <td>жить   жить ,  и   тут   в   твой   жизнь   по...</td>\n",
       "      <td>7098</td>\n",
       "      <td>144</td>\n",
       "      <td>False</td>\n",
       "      <td>False</td>\n",
       "    </tr>\n",
       "    <tr>\n",
       "      <th>2</th>\n",
       "      <td>dying</td>\n",
       "      <td>17 авг 2015</td>\n",
       "      <td>-  по   кто   скучать ?  -  по   наташа</td>\n",
       "      <td>6439</td>\n",
       "      <td>121</td>\n",
       "      <td>False</td>\n",
       "      <td>False</td>\n",
       "    </tr>\n",
       "    <tr>\n",
       "      <th>3</th>\n",
       "      <td>dying</td>\n",
       "      <td>17 авг 2015</td>\n",
       "      <td>и   давать   бог   каждый   быть   с   то ,  с...</td>\n",
       "      <td>8469</td>\n",
       "      <td>221</td>\n",
       "      <td>False</td>\n",
       "      <td>False</td>\n",
       "    </tr>\n",
       "    <tr>\n",
       "      <th>4</th>\n",
       "      <td>dying</td>\n",
       "      <td>17 авг 2015</td>\n",
       "      <td>мой   арина   милашка   мой   арина   бандитка...</td>\n",
       "      <td>3704</td>\n",
       "      <td>71</td>\n",
       "      <td>False</td>\n",
       "      <td>False</td>\n",
       "    </tr>\n",
       "    <tr>\n",
       "      <th>...</th>\n",
       "      <td>...</td>\n",
       "      <td>...</td>\n",
       "      <td>...</td>\n",
       "      <td>...</td>\n",
       "      <td>...</td>\n",
       "      <td>...</td>\n",
       "      <td>...</td>\n",
       "    </tr>\n",
       "    <tr>\n",
       "      <th>9804</th>\n",
       "      <td>dying</td>\n",
       "      <td>30 окт 2014</td>\n",
       "      <td>-  как   ты   земля   носить ?  -  ну ,  грави...</td>\n",
       "      <td>263</td>\n",
       "      <td>7</td>\n",
       "      <td>False</td>\n",
       "      <td>False</td>\n",
       "    </tr>\n",
       "    <tr>\n",
       "      <th>9805</th>\n",
       "      <td>dying</td>\n",
       "      <td>30 окт 2014</td>\n",
       "      <td>сохранять   нежность</td>\n",
       "      <td>67</td>\n",
       "      <td>0</td>\n",
       "      <td>False</td>\n",
       "      <td>False</td>\n",
       "    </tr>\n",
       "    <tr>\n",
       "      <th>9806</th>\n",
       "      <td>dying</td>\n",
       "      <td>30 окт 2014</td>\n",
       "      <td>если   у   ты   на   лицо   прыщик ,  не   ком...</td>\n",
       "      <td>133</td>\n",
       "      <td>4</td>\n",
       "      <td>False</td>\n",
       "      <td>False</td>\n",
       "    </tr>\n",
       "    <tr>\n",
       "      <th>9807</th>\n",
       "      <td>dying</td>\n",
       "      <td>30 окт 2014</td>\n",
       "      <td>-  вы   такой   милый   пара !  когда   я   вы...</td>\n",
       "      <td>636</td>\n",
       "      <td>12</td>\n",
       "      <td>False</td>\n",
       "      <td>False</td>\n",
       "    </tr>\n",
       "    <tr>\n",
       "      <th>9808</th>\n",
       "      <td>dying</td>\n",
       "      <td>30 окт 2014</td>\n",
       "      <td>я   не   кукла   и   не   игрушка  ,  я   дево...</td>\n",
       "      <td>189</td>\n",
       "      <td>2</td>\n",
       "      <td>False</td>\n",
       "      <td>False</td>\n",
       "    </tr>\n",
       "  </tbody>\n",
       "</table>\n",
       "<p>9809 rows × 7 columns</p>\n",
       "</div>"
      ],
      "text/plain": [
       "     author         date                                               text  \\\n",
       "0     dying  17 авг 2015               хотеть   видеть   ты   каждый   день   \n",
       "1     dying  17 авг 2015  жить   жить ,  и   тут   в   твой   жизнь   по...   \n",
       "2     dying  17 авг 2015            -  по   кто   скучать ?  -  по   наташа   \n",
       "3     dying  17 авг 2015  и   давать   бог   каждый   быть   с   то ,  с...   \n",
       "4     dying  17 авг 2015  мой   арина   милашка   мой   арина   бандитка...   \n",
       "...     ...          ...                                                ...   \n",
       "9804  dying  30 окт 2014  -  как   ты   земля   носить ?  -  ну ,  грави...   \n",
       "9805  dying  30 окт 2014                               сохранять   нежность   \n",
       "9806  dying  30 окт 2014  если   у   ты   на   лицо   прыщик ,  не   ком...   \n",
       "9807  dying  30 окт 2014  -  вы   такой   милый   пара !  когда   я   вы...   \n",
       "9808  dying  30 окт 2014  я   не   кукла   и   не   игрушка  ,  я   дево...   \n",
       "\n",
       "      n_likes  n_reposts  with_photo  is_repost?  \n",
       "0       14351        325       False       False  \n",
       "1        7098        144       False       False  \n",
       "2        6439        121       False       False  \n",
       "3        8469        221       False       False  \n",
       "4        3704         71       False       False  \n",
       "...       ...        ...         ...         ...  \n",
       "9804      263          7       False       False  \n",
       "9805       67          0       False       False  \n",
       "9806      133          4       False       False  \n",
       "9807      636         12       False       False  \n",
       "9808      189          2       False       False  \n",
       "\n",
       "[9809 rows x 7 columns]"
      ]
     },
     "execution_count": 46,
     "metadata": {},
     "output_type": "execute_result"
    }
   ],
   "source": [
    "with_text"
   ]
  },
  {
   "cell_type": "code",
   "execution_count": 52,
   "id": "59dec36b",
   "metadata": {},
   "outputs": [
    {
     "data": {
      "text/plain": [
       "'подруга  -  это   святой !  особенно ,  если   она   звать   леся'"
      ]
     },
     "execution_count": 52,
     "metadata": {},
     "output_type": "execute_result"
    }
   ],
   "source": [
    "with_text.text[214]"
   ]
  },
  {
   "cell_type": "code",
   "execution_count": 57,
   "id": "4c56b877",
   "metadata": {},
   "outputs": [
    {
     "data": {
      "text/plain": [
       "True"
      ]
     },
     "execution_count": 57,
     "metadata": {},
     "output_type": "execute_result"
    }
   ],
   "source": [
    "nltk.download(\"punkt\", quiet=True)\n",
    "nltk.download(\"stopwords\", quiet=True)"
   ]
  },
  {
   "cell_type": "markdown",
   "id": "e41ea214",
   "metadata": {},
   "source": [
    "Избавимся от пунктуации и стоп-слов в тексте."
   ]
  },
  {
   "cell_type": "code",
   "execution_count": 70,
   "id": "dbf15e79",
   "metadata": {},
   "outputs": [],
   "source": [
    "noise = set(stopwords.words('russian') + stopwords.words('english') + list(punctuation))"
   ]
  },
  {
   "cell_type": "code",
   "execution_count": 198,
   "id": "b9b335a4",
   "metadata": {},
   "outputs": [],
   "source": [
    "def stopwords_dropper(string):\n",
    "    noise = set(stopwords.words('russian') + stopwords.words('english') + list(punctuation + '—–'))  \n",
    "    \n",
    "    text = string.split() # лемматизатор уже отделил всю пунктуацию пробелами\n",
    "    out = []\n",
    "    \n",
    "    for word in text:\n",
    "        if word in noise:\n",
    "            continue\n",
    "        else:\n",
    "            out.append(word)\n",
    "            \n",
    "    return ' '.join(out)"
   ]
  },
  {
   "cell_type": "code",
   "execution_count": 199,
   "id": "b167da4c",
   "metadata": {},
   "outputs": [],
   "source": [
    "wo_stopwords = with_text['text'].apply(stopwords_dropper)"
   ]
  },
  {
   "cell_type": "code",
   "execution_count": 200,
   "id": "aace5f03",
   "metadata": {},
   "outputs": [],
   "source": [
    "data_no_stopwords = with_text[['author', 'date', 'n_likes', 'n_reposts', 'with_photo', 'is_repost?']]"
   ]
  },
  {
   "cell_type": "code",
   "execution_count": 201,
   "id": "d3b01f96",
   "metadata": {},
   "outputs": [],
   "source": [
    "data_no_stopwords['text'] = wo_stopwords"
   ]
  },
  {
   "cell_type": "code",
   "execution_count": 239,
   "id": "8446abe0",
   "metadata": {},
   "outputs": [],
   "source": [
    "all_words = np.array([])\n",
    "for i in data_no_stopwords.text:\n",
    "    words = i.split()\n",
    "    all_words = np.append(all_words, words)\n",
    "    \n",
    "words, counts = list(map(list, np.unique(all_words, return_counts= True))) \n",
    "\n",
    "word_counter = []\n",
    "for i, j in zip(words, counts):\n",
    "    word_counter.append([i, j])"
   ]
  },
  {
   "cell_type": "markdown",
   "id": "6929f069",
   "metadata": {},
   "source": [
    "Посмотрим на самые часто встречающиеся слова в постах"
   ]
  },
  {
   "cell_type": "code",
   "execution_count": 243,
   "id": "7dce347d",
   "metadata": {},
   "outputs": [],
   "source": [
    "most_10 = dict(sorted(word_counter, key = lambda x: x[1], reverse=True)[:10])"
   ]
  },
  {
   "cell_type": "code",
   "execution_count": 244,
   "id": "04023d38",
   "metadata": {},
   "outputs": [
    {
     "data": {
      "image/png": "[encoded data removed]",
      "text/plain": [
       "<Figure size 720x432 with 1 Axes>"
      ]
     },
     "metadata": {
      "needs_background": "light"
     },
     "output_type": "display_data"
    }
   ],
   "source": [
    "plt.figure(figsize=(10, 6))\n",
    "plt.bar(most_10.keys(), height=most_10.values(), color = 'pink')\n",
    "plt.ylabel('частота', fontsize = 12)\n",
    "plt.title('Самые часто встречающиеся слова', fontsize = 14);"
   ]
  },
  {
   "cell_type": "code",
   "execution_count": 224,
   "id": "5ba74403",
   "metadata": {},
   "outputs": [],
   "source": [
    "x = list(most_10.keys()"
   ]
  },
  {
   "cell_type": "code",
   "execution_count": 246,
   "id": "abf93c60",
   "metadata": {},
   "outputs": [],
   "source": [
    "def is_loved(string: str):\n",
    "    if 'любить' in string:\n",
    "        return 1\n",
    "    else: \n",
    "        return 0 "
   ]
  },
  {
   "cell_type": "code",
   "execution_count": 248,
   "id": "b2d61caa",
   "metadata": {},
   "outputs": [],
   "source": [
    "data_no_stopwords['with_love'] = data_no_stopwords.text.apply(is_loved)"
   ]
  },
  {
   "cell_type": "code",
   "execution_count": 252,
   "id": "df60df76",
   "metadata": {},
   "outputs": [],
   "source": [
    "loved = data_no_stopwords[data_no_stopwords['with_love'] == 1]\n",
    "not_loved = data_no_stopwords[data_no_stopwords['with_love'] == 0]"
   ]
  },
  {
   "cell_type": "markdown",
   "id": "9c7de6d1",
   "metadata": {},
   "source": [
    "Проверим гипотезу о том, что посты со словом __*любить*__ набирают больше лайков."
   ]
  },
  {
   "cell_type": "markdown",
   "id": "23acbfcd",
   "metadata": {},
   "source": [
    "$$\n",
    "H_0: \\mu_{loved} = \\mu_{not\\_loved}\\\\\n",
    "$$\n",
    "$$\n",
    "H_1: \\mu_{loved} > \\mu_{not\\_loved}\n",
    "$$"
   ]
  },
  {
   "cell_type": "code",
   "execution_count": 367,
   "id": "df5f3b24",
   "metadata": {},
   "outputs": [
    {
     "data": {
      "image/png": "[encoded data removed]",
      "text/plain": [
       "<Figure size 1440x576 with 2 Axes>"
      ]
     },
     "metadata": {
      "needs_background": "light"
     },
     "output_type": "display_data"
    }
   ],
   "source": [
    "fig, ax = plt.subplots(nrows = 1, ncols=2, figsize = (20, 8))\n",
    "\n",
    "ax[0].hist(loved.n_likes, bins = 50, color = 'pink')\n",
    "ax[0].set_xlabel('n_likes')\n",
    "ax[0].set_ylabel('count')\n",
    "ax[0].set_title(\"Распределение количества лайков на постах со словом 'любить'\" , fontsize = 14)\n",
    "\n",
    "ax[1].hist(not_loved.n_likes, bins = 50, color = 'pink')\n",
    "ax[1].set_xlabel('n_likes')\n",
    "ax[1].set_ylabel('count')\n",
    "ax[1].set_title(\"Распределение количества лайков на постах без слова 'любить'\" , fontsize = 14);"
   ]
  },
  {
   "cell_type": "markdown",
   "id": "9235ea17",
   "metadata": {},
   "source": [
    "Среднее количество лайков будет асимптотически нормальным (по ЦПТ), дисперсии количества лайков в каждой группе мы не знаем, поэтому для проверки гипотезы будем использовать тест Уэлча"
   ]
  },
  {
   "cell_type": "code",
   "execution_count": 286,
   "id": "ea03d3dd",
   "metadata": {},
   "outputs": [
    {
     "data": {
      "text/plain": [
       "Ttest_indResult(statistic=2.5453997328112554, pvalue=0.005533439306832869)"
      ]
     },
     "execution_count": 286,
     "metadata": {},
     "output_type": "execute_result"
    }
   ],
   "source": [
    "stats.ttest_ind(loved.n_likes, not_loved.n_likes, equal_var= False, alternative= 'greater')"
   ]
  },
  {
   "cell_type": "markdown",
   "id": "237dd21a",
   "metadata": {},
   "source": [
    "Полученное p-значение меньше, чем наиболее часто используемые уровни значимости. Нулевая гипотеза отвергается на уровне значимости 0.01, значит мы можем говорить, что посты со словом __*любить*__ в среднем набирают больше лайков."
   ]
  },
  {
   "cell_type": "markdown",
   "id": "be4c9ac0",
   "metadata": {},
   "source": [
    "Мы также проверям робастность результатов, заменяя количество лайков на количество репостов. Интуитивно, количество репостов, также как и количество лайков отражает отношение пользователей к посту. Обычно, чем больше лайков репостов, тем больше людей, считают текст в посте отражающим их настроение, значимым для них."
   ]
  },
  {
   "cell_type": "code",
   "execution_count": 368,
   "id": "cef06c65",
   "metadata": {},
   "outputs": [
    {
     "data": {
      "text/plain": [
       "Ttest_indResult(statistic=6.3989634170860015, pvalue=1.2021955478567185e-10)"
      ]
     },
     "execution_count": 368,
     "metadata": {},
     "output_type": "execute_result"
    }
   ],
   "source": [
    "stats.ttest_ind(loved.n_reposts, not_loved.n_reposts, equal_var= False, alternative= 'greater')"
   ]
  },
  {
   "cell_type": "markdown",
   "id": "98fa9f43",
   "metadata": {},
   "source": [
    "С количеством репостов получили аналогичный результат: Подписчики в среднем больше репостят посты со словом __*любить*__, что может говорить о том, "
   ]
  },
  {
   "cell_type": "markdown",
   "id": "e77588bc",
   "metadata": {},
   "source": [
    "## Теперь посмотрим на маты"
   ]
  },
  {
   "cell_type": "markdown",
   "id": "f75e9b9f",
   "metadata": {},
   "source": [
    "Можно предположить, что в группе, где подписчики больше лайкают посты со словом __*любить*__ нет места негатива и брани. Мы решили изучить этот вопрос, воспользовавшись большим набором матерных слов на русском языке. "
   ]
  },
  {
   "cell_type": "code",
   "execution_count": 354,
   "id": "f9d8adf8",
   "metadata": {},
   "outputs": [],
   "source": [
    "with open('маты.txt', 'r', encoding='utf-8') as file:\n",
    "    bad_words = set(map(lambda x: x.lower(), file.read().split('\\n'))) "
   ]
  },
  {
   "cell_type": "code",
   "execution_count": 355,
   "id": "8d548d8f",
   "metadata": {},
   "outputs": [],
   "source": [
    "def with_bad_words(string: str):\n",
    "    words = set(str(string).split())\n",
    "\n",
    "    if words & bad_words != set():\n",
    "        return 1\n",
    "    else:\n",
    "        return 0"
   ]
  },
  {
   "cell_type": "code",
   "execution_count": 356,
   "id": "b402b8a5",
   "metadata": {},
   "outputs": [],
   "source": [
    "data_no_stopwords['with_bad_words'] = data.text.apply(with_bad_words)"
   ]
  },
  {
   "cell_type": "code",
   "execution_count": 357,
   "id": "f0179a84",
   "metadata": {},
   "outputs": [],
   "source": [
    "explicit = data_no_stopwords[data_no_stopwords['with_bad_words'] == 1]\n",
    "no_explicit = data_no_stopwords[data_no_stopwords['with_bad_words'] == 0]"
   ]
  },
  {
   "cell_type": "code",
   "execution_count": 358,
   "id": "5582be61",
   "metadata": {},
   "outputs": [
    {
     "data": {
      "image/png": "[encoded data removed]",
      "text/plain": [
       "<Figure size 1080x432 with 2 Axes>"
      ]
     },
     "metadata": {
      "needs_background": "light"
     },
     "output_type": "display_data"
    }
   ],
   "source": [
    "fig, ax = plt.subplots(nrows = 1, ncols=2, figsize = (15, 6))\n",
    "\n",
    "ax[0].hist(explicit.n_likes, bins = 50, color = 'pink')\n",
    "ax[0].set_xlabel('n_likes')\n",
    "ax[0].set_ylabel('count')\n",
    "ax[0].set_title(\"Распределение количества лайков на постах,\\n содержащих нецензурную лексику\" , fontsize = 14)\n",
    "\n",
    "ax[1].hist(no_explicit.n_likes, bins = 50, color = 'pink')\n",
    "ax[1].set_xlabel('n_likes')\n",
    "ax[1].set_ylabel('count')\n",
    "ax[1].set_title(\"Распределение количества лайков на постах\\n без нецензурной лексики\" , fontsize = 14);"
   ]
  },
  {
   "cell_type": "markdown",
   "id": "a022db71",
   "metadata": {},
   "source": [
    "Судя по выборочным средним, посты, содержащие нецензурную лексику в среднем по выборке набирали меньше лайков, чем посты без такой лексики."
   ]
  },
  {
   "cell_type": "code",
   "execution_count": 364,
   "id": "9564b0cc",
   "metadata": {},
   "outputs": [
    {
     "data": {
      "text/plain": [
       "(1010.025974025974, 1110.9155878891622)"
      ]
     },
     "execution_count": 364,
     "metadata": {},
     "output_type": "execute_result"
    }
   ],
   "source": [
    "explicit.n_likes.mean(), no_explicit.n_likes.mean()"
   ]
  },
  {
   "cell_type": "markdown",
   "id": "48db10fd",
   "metadata": {},
   "source": [
    "Однако, так ли это на самом деле. Мы статистически проверям гипотезу, о том, что посты с матерными словами в среднем набирают меньше лайков"
   ]
  },
  {
   "cell_type": "markdown",
   "id": "1d856737",
   "metadata": {},
   "source": [
    "$$\n",
    "H_0: \\mu_{explicit} = \\mu_{no\\_explicit}\\\\\n",
    "$$\n",
    "$$\n",
    "H_1: \\mu_{explicit} < \\mu_{no\\_explicit}\n",
    "$$"
   ]
  },
  {
   "cell_type": "markdown",
   "id": "d9775b12",
   "metadata": {},
   "source": [
    "Опять же, мы используем тест Уэлча, так как дисперсии неизвестны."
   ]
  },
  {
   "cell_type": "code",
   "execution_count": 360,
   "id": "876a7908",
   "metadata": {},
   "outputs": [
    {
     "data": {
      "text/plain": [
       "Ttest_indResult(statistic=-2.7936088435659046, pvalue=0.0027051658282757087)"
      ]
     },
     "execution_count": 360,
     "metadata": {},
     "output_type": "execute_result"
    }
   ],
   "source": [
    "stats.ttest_ind(explicit.n_likes, no_explicit.n_likes, equal_var= False, alternative= 'less')"
   ]
  },
  {
   "cell_type": "markdown",
   "id": "69a578b3",
   "metadata": {},
   "source": [
    "Полученное p-значение меньше 0.01, а значит нулевая гипотеза отвергается на уровне значимости 0.1%. Можно довольно уверенно говорить о том, что подписчики группы dying не любят посты с нецензурной лексикой!"
   ]
  },
  {
   "cell_type": "code",
   "execution_count": 362,
   "id": "a60c264d",
   "metadata": {},
   "outputs": [
    {
     "data": {
      "text/plain": [
       "1110.9155878891622"
      ]
     },
     "execution_count": 362,
     "metadata": {},
     "output_type": "execute_result"
    }
   ],
   "source": []
  },
  {
   "cell_type": "code",
   "execution_count": null,
   "id": "e8a8ab14",
   "metadata": {},
   "outputs": [],
   "source": []
  },
  {
   "cell_type": "code",
   "execution_count": null,
   "id": "163f4880",
   "metadata": {},
   "outputs": [],
   "source": []
  }
 ],
 "metadata": {
  "kernelspec": {
   "display_name": "Python 3 (ipykernel)",
   "language": "python",
   "name": "python3"
  },
  "language_info": {
   "codemirror_mode": {
    "name": "ipython",
    "version": 3
   },
   "file_extension": ".py",
   "mimetype": "text/x-python",
   "name": "python",
   "nbconvert_exporter": "python",
   "pygments_lexer": "ipython3",
   "version": "3.9.7"
  }
 },
 "nbformat": 4,
 "nbformat_minor": 5
}
