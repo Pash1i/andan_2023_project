{
 "cells": [
  {
   "cell_type": "code",
   "execution_count": 249,
   "id": "6ac8c687",
   "metadata": {},
   "outputs": [],
   "source": [
    "from selenium import webdriver\n",
    "from selenium.webdriver.common.keys import Keys\n",
    "from selenium.webdriver.common.by import By\n",
    "from selenium.webdriver import ActionChains\n",
    "\n",
    "import numpy as np"
   ]
  },
  {
   "cell_type": "markdown",
   "id": "c514e985",
   "metadata": {},
   "source": [
    "В нашем проекте мы парсили твиты с помощью библиотеки Selenium. На данном этапе код парсера довольно примитивный, но свою функцию выполняет. К сожалению, твиттер архивирует твиты после определенного периода. Поэтому получилось собрать всего порядка 550 твитов (до декабря 2022 года)."
   ]
  },
  {
   "cell_type": "code",
   "execution_count": 269,
   "id": "8e83fb54",
   "metadata": {},
   "outputs": [],
   "source": [
    "browser = webdriver.Chrome()\n",
    "action_chains = ActionChains(browser)"
   ]
  },
  {
   "cell_type": "code",
   "execution_count": 251,
   "id": "29f27a30",
   "metadata": {},
   "outputs": [],
   "source": [
    "browser.get('https://twitter.com/elonmusk')"
   ]
  },
  {
   "cell_type": "code",
   "execution_count": 252,
   "id": "9e146a2d",
   "metadata": {},
   "outputs": [],
   "source": [
    "from time import sleep"
   ]
  },
  {
   "cell_type": "code",
   "execution_count": 278,
   "id": "a1282ba2",
   "metadata": {},
   "outputs": [],
   "source": [
    "tweet = '/html/body/div[1]/div/div/div[2]/main/div/div/div/div/div/div[3]/div/div/section/div/div/div[1]'"
   ]
  },
  {
   "cell_type": "code",
   "execution_count": 277,
   "id": "179cbab3",
   "metadata": {},
   "outputs": [
    {
     "ename": "KeyboardInterrupt",
     "evalue": "",
     "output_type": "error",
     "traceback": [
      "\u001b[1;31m---------------------------------------------------------------------------\u001b[0m",
      "\u001b[1;31mKeyboardInterrupt\u001b[0m                         Traceback (most recent call last)",
      "\u001b[1;32m~\\AppData\\Local\\Temp/ipykernel_17684/644075595.py\u001b[0m in \u001b[0;36m<module>\u001b[1;34m\u001b[0m\n\u001b[0;32m      2\u001b[0m \u001b[0mtweets_no_stats\u001b[0m \u001b[1;33m=\u001b[0m \u001b[1;33m[\u001b[0m\u001b[1;33m]\u001b[0m\u001b[1;33m\u001b[0m\u001b[1;33m\u001b[0m\u001b[0m\n\u001b[0;32m      3\u001b[0m \u001b[1;32mfor\u001b[0m \u001b[0mi\u001b[0m \u001b[1;32min\u001b[0m \u001b[0mrange\u001b[0m\u001b[1;33m(\u001b[0m\u001b[1;36m15000\u001b[0m\u001b[1;33m)\u001b[0m\u001b[1;33m:\u001b[0m\u001b[1;33m\u001b[0m\u001b[1;33m\u001b[0m\u001b[0m\n\u001b[1;32m----> 4\u001b[1;33m     \u001b[0msleep\u001b[0m\u001b[1;33m(\u001b[0m\u001b[0mnp\u001b[0m\u001b[1;33m.\u001b[0m\u001b[0mrandom\u001b[0m\u001b[1;33m.\u001b[0m\u001b[0muniform\u001b[0m\u001b[1;33m(\u001b[0m\u001b[1;36m0.1\u001b[0m\u001b[1;33m,\u001b[0m \u001b[1;36m0.4\u001b[0m\u001b[1;33m)\u001b[0m\u001b[1;33m)\u001b[0m\u001b[1;33m\u001b[0m\u001b[1;33m\u001b[0m\u001b[0m\n\u001b[0m\u001b[0;32m      5\u001b[0m     \u001b[1;32mtry\u001b[0m\u001b[1;33m:\u001b[0m\u001b[1;33m\u001b[0m\u001b[1;33m\u001b[0m\u001b[0m\n\u001b[0;32m      6\u001b[0m         \u001b[0mtweet_text\u001b[0m \u001b[1;33m=\u001b[0m \u001b[0mbrowser\u001b[0m\u001b[1;33m.\u001b[0m\u001b[0mfind_element\u001b[0m\u001b[1;33m(\u001b[0m\u001b[0mBy\u001b[0m\u001b[1;33m.\u001b[0m\u001b[0mXPATH\u001b[0m\u001b[1;33m,\u001b[0m \u001b[0mtweet\u001b[0m\u001b[1;33m)\u001b[0m\u001b[1;33m.\u001b[0m\u001b[0mtext\u001b[0m\u001b[1;33m\u001b[0m\u001b[1;33m\u001b[0m\u001b[0m\n",
      "\u001b[1;31mKeyboardInterrupt\u001b[0m: "
     ]
    }
   ],
   "source": [
    "tweets = []\n",
    "tweets_no_stats = []\n",
    "for i in range(15000):\n",
    "    sleep(np.random.uniform(0.1, 0.4))\n",
    "    try:\n",
    "        tweet_text = browser.find_element(By.XPATH, tweet).text\n",
    "    except:\n",
    "        action_chains.scroll_by_amount(0,100).perform()\n",
    "        continue\n",
    "    tweet_no_stats = '\\n'.join(tweet_text.split('\\n')[:-4])\n",
    "    if tweet_no_stats not in tweets_no_stats:\n",
    "        with open('tweets_v2.txt', 'a', encoding='utf-8') as file:\n",
    "            file.write(tweet_text + '\\n-----\\n')\n",
    "        tweets.append(tweet_text)\n",
    "        tweets_no_stats.append(tweet_no_stats)\n",
    "    action_chains.scroll_by_amount(0,150).perform()"
   ]
  },
  {
   "cell_type": "markdown",
   "id": "93110b8b",
   "metadata": {},
   "source": [
    "На всякий случай, мы собрали еще информацию о твитах теслы."
   ]
  },
  {
   "cell_type": "code",
   "execution_count": 281,
   "id": "3e67edcc",
   "metadata": {},
   "outputs": [],
   "source": [
    "browser.get('https://twitter.com/Tesla')"
   ]
  },
  {
   "cell_type": "code",
   "execution_count": 282,
   "id": "af2ef963",
   "metadata": {},
   "outputs": [
    {
     "ename": "KeyboardInterrupt",
     "evalue": "",
     "output_type": "error",
     "traceback": [
      "\u001b[1;31m---------------------------------------------------------------------------\u001b[0m",
      "\u001b[1;31mKeyboardInterrupt\u001b[0m                         Traceback (most recent call last)",
      "\u001b[1;32m~\\AppData\\Local\\Temp/ipykernel_17684/3078682956.py\u001b[0m in \u001b[0;36m<module>\u001b[1;34m\u001b[0m\n\u001b[0;32m      2\u001b[0m \u001b[0mtweets_no_stats_tesla\u001b[0m \u001b[1;33m=\u001b[0m \u001b[1;33m[\u001b[0m\u001b[1;33m]\u001b[0m\u001b[1;33m\u001b[0m\u001b[1;33m\u001b[0m\u001b[0m\n\u001b[0;32m      3\u001b[0m \u001b[1;32mfor\u001b[0m \u001b[0mi\u001b[0m \u001b[1;32min\u001b[0m \u001b[0mrange\u001b[0m\u001b[1;33m(\u001b[0m\u001b[1;36m15000\u001b[0m\u001b[1;33m)\u001b[0m\u001b[1;33m:\u001b[0m\u001b[1;33m\u001b[0m\u001b[1;33m\u001b[0m\u001b[0m\n\u001b[1;32m----> 4\u001b[1;33m     \u001b[0msleep\u001b[0m\u001b[1;33m(\u001b[0m\u001b[0mnp\u001b[0m\u001b[1;33m.\u001b[0m\u001b[0mrandom\u001b[0m\u001b[1;33m.\u001b[0m\u001b[0muniform\u001b[0m\u001b[1;33m(\u001b[0m\u001b[1;36m0.1\u001b[0m\u001b[1;33m,\u001b[0m \u001b[1;36m0.4\u001b[0m\u001b[1;33m)\u001b[0m\u001b[1;33m)\u001b[0m\u001b[1;33m\u001b[0m\u001b[1;33m\u001b[0m\u001b[0m\n\u001b[0m\u001b[0;32m      5\u001b[0m     \u001b[1;32mtry\u001b[0m\u001b[1;33m:\u001b[0m\u001b[1;33m\u001b[0m\u001b[1;33m\u001b[0m\u001b[0m\n\u001b[0;32m      6\u001b[0m         \u001b[0mtweet_text\u001b[0m \u001b[1;33m=\u001b[0m \u001b[0mbrowser\u001b[0m\u001b[1;33m.\u001b[0m\u001b[0mfind_element\u001b[0m\u001b[1;33m(\u001b[0m\u001b[0mBy\u001b[0m\u001b[1;33m.\u001b[0m\u001b[0mXPATH\u001b[0m\u001b[1;33m,\u001b[0m \u001b[0mtweet\u001b[0m\u001b[1;33m)\u001b[0m\u001b[1;33m.\u001b[0m\u001b[0mtext\u001b[0m\u001b[1;33m\u001b[0m\u001b[1;33m\u001b[0m\u001b[0m\n",
      "\u001b[1;31mKeyboardInterrupt\u001b[0m: "
     ]
    }
   ],
   "source": [
    "tweets_tesla = []\n",
    "tweets_no_stats_tesla = []\n",
    "for i in range(15000):\n",
    "    sleep(np.random.uniform(0.1, 0.4))\n",
    "    try:\n",
    "        tweet_text = browser.find_element(By.XPATH, tweet).text\n",
    "    except:\n",
    "        action_chains.scroll_by_amount(0,100).perform()\n",
    "        continue\n",
    "    tweet_no_stats = '\\n'.join(tweet_text.split('\\n')[:-4])\n",
    "    if tweet_no_stats not in tweets_no_stats_tesla:\n",
    "        with open('tweets_tesla.txt', 'a', encoding='utf-8') as file:\n",
    "            file.write(tweet_text + '\\n-----\\n')\n",
    "        tweets_tesla.append(tweet_text)\n",
    "        tweets_no_stats_tesla.append(tweet_no_stats)\n",
    "    action_chains.scroll_by_amount(0,150).perform()"
   ]
  }
 ],
 "metadata": {
  "kernelspec": {
   "display_name": "Python 3 (ipykernel)",
   "language": "python",
   "name": "python3"
  },
  "language_info": {
   "codemirror_mode": {
    "name": "ipython",
    "version": 3
   },
   "file_extension": ".py",
   "mimetype": "text/x-python",
   "name": "python",
   "nbconvert_exporter": "python",
   "pygments_lexer": "ipython3",
   "version": "3.9.7"
  }
 },
 "nbformat": 4,
 "nbformat_minor": 5
}
