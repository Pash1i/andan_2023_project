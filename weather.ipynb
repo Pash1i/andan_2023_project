{
 "cells": [
  {
   "cell_type": "code",
   "execution_count": 302,
   "id": "f495914d",
   "metadata": {},
   "outputs": [],
   "source": [
    "import pandas as pd\n",
    "import numpy as np\n",
    "import matplotlib.pyplot as plt\n",
    "import scipy.stats as stats\n",
    "\n",
    "from datetime import datetime\n",
    "\n",
    "import warnings\n",
    "warnings.filterwarnings(\"ignore\")"
   ]
  },
  {
   "cell_type": "code",
   "execution_count": 303,
   "id": "758e0320",
   "metadata": {},
   "outputs": [],
   "source": [
    "def datetimer(string):                    # чтобы даты в нормальный вид приводить\n",
    "    month_dict = {\n",
    "    'янв': '01',\n",
    "    'фев': '02',\n",
    "    'мар': '03',\n",
    "    'апр': '04',\n",
    "    'мая': '05',\n",
    "    'июн': '06',\n",
    "    'июл': '07',\n",
    "    'авг': '08',\n",
    "    'сен': '09',\n",
    "    'окт': '10',\n",
    "    'ноя': '11',\n",
    "    'дек': '12'\n",
    "    }\n",
    "    date = string.split()\n",
    "    day = int(date[0])\n",
    "    year = int(date[2])\n",
    "    month = int(month_dict[date[1]])\n",
    "    date = datetime(year, month, day)\n",
    "    return date"
   ]
  },
  {
   "cell_type": "markdown",
   "id": "9a67ee26",
   "metadata": {},
   "source": [
    "# табличка с погодой:"
   ]
  },
  {
   "cell_type": "markdown",
   "id": "56993c80",
   "metadata": {},
   "source": [
    "Мы взяли данные о погоде в Москве (метеостанция 65518, в районе ВДНХ) в ноябре 2014 - августе 2015 с сайта https://rp5.ru/Архив_погоды_в_По . Из полученного датасета мы используем следующие признаки:\n",
    "\n",
    "- Дата\n",
    "- Температура воздуха в градусах Цельсия (T)\n",
    "- Атмосферное давление в миллиметрах ртутного столба (Po)\n",
    "- Относительная влажность в % (U)\n",
    "- Направление ветра - категориальный признак (DD)\n",
    "- Скорость ветра в метрах в секунду (Ff)\n",
    "- Общая облачность (N)\n",
    "- Горизонтальная дальность видимости в км (VV)\n",
    "- Температура точки росы в градусах Цельсия (Td)"
   ]
  },
  {
   "cell_type": "code",
   "execution_count": 304,
   "id": "cd2d70b0",
   "metadata": {},
   "outputs": [
    {
     "data": {
      "text/html": [
       "<div>\n",
       "<style scoped>\n",
       "    .dataframe tbody tr th:only-of-type {\n",
       "        vertical-align: middle;\n",
       "    }\n",
       "\n",
       "    .dataframe tbody tr th {\n",
       "        vertical-align: top;\n",
       "    }\n",
       "\n",
       "    .dataframe thead th {\n",
       "        text-align: right;\n",
       "    }\n",
       "</style>\n",
       "<table border=\"1\" class=\"dataframe\">\n",
       "  <thead>\n",
       "    <tr style=\"text-align: right;\">\n",
       "      <th></th>\n",
       "      <th>Местное время в Москве (ВДНХ)</th>\n",
       "      <th>T</th>\n",
       "      <th>Po</th>\n",
       "      <th>U</th>\n",
       "      <th>DD</th>\n",
       "      <th>Ff</th>\n",
       "      <th>N</th>\n",
       "      <th>VV</th>\n",
       "      <th>Td</th>\n",
       "    </tr>\n",
       "  </thead>\n",
       "  <tbody>\n",
       "    <tr>\n",
       "      <th>1</th>\n",
       "      <td>31.08.2015 18:00</td>\n",
       "      <td>17.2</td>\n",
       "      <td>747.4</td>\n",
       "      <td>60.0</td>\n",
       "      <td>Ветер, дующий с северо-запада</td>\n",
       "      <td>1</td>\n",
       "      <td>40%.</td>\n",
       "      <td>10.0</td>\n",
       "      <td>9.3</td>\n",
       "    </tr>\n",
       "    <tr>\n",
       "      <th>2</th>\n",
       "      <td>31.08.2015 15:00</td>\n",
       "      <td>18.2</td>\n",
       "      <td>747.2</td>\n",
       "      <td>53.0</td>\n",
       "      <td>Ветер, дующий с северо-запада</td>\n",
       "      <td>2</td>\n",
       "      <td>70 – 80%.</td>\n",
       "      <td>10.0</td>\n",
       "      <td>8.5</td>\n",
       "    </tr>\n",
       "    <tr>\n",
       "      <th>3</th>\n",
       "      <td>31.08.2015 12:00</td>\n",
       "      <td>16.7</td>\n",
       "      <td>747.4</td>\n",
       "      <td>66.0</td>\n",
       "      <td>Ветер, дующий с северо-северо-запада</td>\n",
       "      <td>2</td>\n",
       "      <td>90  или более, но не 100%</td>\n",
       "      <td>10.0</td>\n",
       "      <td>10.2</td>\n",
       "    </tr>\n",
       "  </tbody>\n",
       "</table>\n",
       "</div>"
      ],
      "text/plain": [
       "  Местное время в Москве (ВДНХ)     T     Po     U  \\\n",
       "1              31.08.2015 18:00  17.2  747.4  60.0   \n",
       "2              31.08.2015 15:00  18.2  747.2  53.0   \n",
       "3              31.08.2015 12:00  16.7  747.4  66.0   \n",
       "\n",
       "                                     DD  Ff                          N    VV  \\\n",
       "1         Ветер, дующий с северо-запада   1                       40%.  10.0   \n",
       "2         Ветер, дующий с северо-запада   2                  70 – 80%.  10.0   \n",
       "3  Ветер, дующий с северо-северо-запада   2  90  или более, но не 100%  10.0   \n",
       "\n",
       "     Td  \n",
       "1   9.3  \n",
       "2   8.5  \n",
       "3  10.2  "
      ]
     },
     "execution_count": 304,
     "metadata": {},
     "output_type": "execute_result"
    }
   ],
   "source": [
    "df = pd.read_excel('xls_weather.xls')[['Местное время в Москве (ВДНХ)', 'T', 'Po', 'U', 'DD', 'Ff', 'N', 'VV', 'Td']].dropna()\n",
    "df.head(3)"
   ]
  },
  {
   "cell_type": "code",
   "execution_count": 305,
   "id": "ac4f47c9",
   "metadata": {},
   "outputs": [
    {
     "data": {
      "text/html": [
       "<div>\n",
       "<style scoped>\n",
       "    .dataframe tbody tr th:only-of-type {\n",
       "        vertical-align: middle;\n",
       "    }\n",
       "\n",
       "    .dataframe tbody tr th {\n",
       "        vertical-align: top;\n",
       "    }\n",
       "\n",
       "    .dataframe thead th {\n",
       "        text-align: right;\n",
       "    }\n",
       "</style>\n",
       "<table border=\"1\" class=\"dataframe\">\n",
       "  <thead>\n",
       "    <tr style=\"text-align: right;\">\n",
       "      <th></th>\n",
       "      <th>Местное время в Москве (ВДНХ)</th>\n",
       "      <th>T</th>\n",
       "      <th>Po</th>\n",
       "      <th>U</th>\n",
       "      <th>DD</th>\n",
       "      <th>Ff</th>\n",
       "      <th>N</th>\n",
       "      <th>VV</th>\n",
       "      <th>Td</th>\n",
       "    </tr>\n",
       "  </thead>\n",
       "  <tbody>\n",
       "    <tr>\n",
       "      <th>1</th>\n",
       "      <td>31.08.2015 18:00</td>\n",
       "      <td>17.2</td>\n",
       "      <td>747.4</td>\n",
       "      <td>60.0</td>\n",
       "      <td>Ветер, дующий с северо-запада</td>\n",
       "      <td>1</td>\n",
       "      <td>40%.</td>\n",
       "      <td>10.0</td>\n",
       "      <td>9.3</td>\n",
       "    </tr>\n",
       "    <tr>\n",
       "      <th>2</th>\n",
       "      <td>31.08.2015 15:00</td>\n",
       "      <td>18.2</td>\n",
       "      <td>747.2</td>\n",
       "      <td>53.0</td>\n",
       "      <td>Ветер, дующий с северо-запада</td>\n",
       "      <td>2</td>\n",
       "      <td>70 – 80%.</td>\n",
       "      <td>10.0</td>\n",
       "      <td>8.5</td>\n",
       "    </tr>\n",
       "    <tr>\n",
       "      <th>3</th>\n",
       "      <td>31.08.2015 12:00</td>\n",
       "      <td>16.7</td>\n",
       "      <td>747.4</td>\n",
       "      <td>66.0</td>\n",
       "      <td>Ветер, дующий с северо-северо-запада</td>\n",
       "      <td>2</td>\n",
       "      <td>90  или более, но не 100%</td>\n",
       "      <td>10.0</td>\n",
       "      <td>10.2</td>\n",
       "    </tr>\n",
       "    <tr>\n",
       "      <th>4</th>\n",
       "      <td>31.08.2015 09:00</td>\n",
       "      <td>13.7</td>\n",
       "      <td>747.3</td>\n",
       "      <td>80.0</td>\n",
       "      <td>Ветер, дующий с северо-северо-запада</td>\n",
       "      <td>2</td>\n",
       "      <td>90  или более, но не 100%</td>\n",
       "      <td>10.0</td>\n",
       "      <td>10.3</td>\n",
       "    </tr>\n",
       "    <tr>\n",
       "      <th>5</th>\n",
       "      <td>31.08.2015 06:00</td>\n",
       "      <td>12.2</td>\n",
       "      <td>747.0</td>\n",
       "      <td>89.0</td>\n",
       "      <td>Ветер, дующий с северо-запада</td>\n",
       "      <td>1</td>\n",
       "      <td>90  или более, но не 100%</td>\n",
       "      <td>4.0</td>\n",
       "      <td>10.5</td>\n",
       "    </tr>\n",
       "    <tr>\n",
       "      <th>...</th>\n",
       "      <td>...</td>\n",
       "      <td>...</td>\n",
       "      <td>...</td>\n",
       "      <td>...</td>\n",
       "      <td>...</td>\n",
       "      <td>...</td>\n",
       "      <td>...</td>\n",
       "      <td>...</td>\n",
       "      <td>...</td>\n",
       "    </tr>\n",
       "    <tr>\n",
       "      <th>6502</th>\n",
       "      <td>29.10.2014 12:00</td>\n",
       "      <td>8.2</td>\n",
       "      <td>754.6</td>\n",
       "      <td>40.0</td>\n",
       "      <td>Штиль, безветрие</td>\n",
       "      <td>0</td>\n",
       "      <td>20–30%.</td>\n",
       "      <td>10.0</td>\n",
       "      <td>-4.8</td>\n",
       "    </tr>\n",
       "    <tr>\n",
       "      <th>6503</th>\n",
       "      <td>29.10.2014 11:00</td>\n",
       "      <td>5.6</td>\n",
       "      <td>754.6</td>\n",
       "      <td>49.0</td>\n",
       "      <td>Ветер, дующий с западо-юго-запада</td>\n",
       "      <td>1</td>\n",
       "      <td>60%.</td>\n",
       "      <td>10.0</td>\n",
       "      <td>-4.3</td>\n",
       "    </tr>\n",
       "    <tr>\n",
       "      <th>6504</th>\n",
       "      <td>29.10.2014 10:00</td>\n",
       "      <td>8.3</td>\n",
       "      <td>754.6</td>\n",
       "      <td>44.0</td>\n",
       "      <td>Ветер, дующий с западо-юго-запада</td>\n",
       "      <td>1</td>\n",
       "      <td>70 – 80%.</td>\n",
       "      <td>10.0</td>\n",
       "      <td>-3.4</td>\n",
       "    </tr>\n",
       "    <tr>\n",
       "      <th>6505</th>\n",
       "      <td>29.10.2014 09:00</td>\n",
       "      <td>6.0</td>\n",
       "      <td>754.1</td>\n",
       "      <td>55.0</td>\n",
       "      <td>Ветер, дующий с запада</td>\n",
       "      <td>1</td>\n",
       "      <td>70 – 80%.</td>\n",
       "      <td>10.0</td>\n",
       "      <td>-2.5</td>\n",
       "    </tr>\n",
       "    <tr>\n",
       "      <th>6506</th>\n",
       "      <td>29.10.2014 08:00</td>\n",
       "      <td>5.4</td>\n",
       "      <td>753.8</td>\n",
       "      <td>60.0</td>\n",
       "      <td>Ветер, дующий с запада</td>\n",
       "      <td>1</td>\n",
       "      <td>70 – 80%.</td>\n",
       "      <td>10.0</td>\n",
       "      <td>-1.8</td>\n",
       "    </tr>\n",
       "  </tbody>\n",
       "</table>\n",
       "<p>3331 rows × 9 columns</p>\n",
       "</div>"
      ],
      "text/plain": [
       "     Местное время в Москве (ВДНХ)     T     Po     U  \\\n",
       "1                 31.08.2015 18:00  17.2  747.4  60.0   \n",
       "2                 31.08.2015 15:00  18.2  747.2  53.0   \n",
       "3                 31.08.2015 12:00  16.7  747.4  66.0   \n",
       "4                 31.08.2015 09:00  13.7  747.3  80.0   \n",
       "5                 31.08.2015 06:00  12.2  747.0  89.0   \n",
       "...                            ...   ...    ...   ...   \n",
       "6502              29.10.2014 12:00   8.2  754.6  40.0   \n",
       "6503              29.10.2014 11:00   5.6  754.6  49.0   \n",
       "6504              29.10.2014 10:00   8.3  754.6  44.0   \n",
       "6505              29.10.2014 09:00   6.0  754.1  55.0   \n",
       "6506              29.10.2014 08:00   5.4  753.8  60.0   \n",
       "\n",
       "                                        DD  Ff                          N  \\\n",
       "1            Ветер, дующий с северо-запада   1                       40%.   \n",
       "2            Ветер, дующий с северо-запада   2                  70 – 80%.   \n",
       "3     Ветер, дующий с северо-северо-запада   2  90  или более, но не 100%   \n",
       "4     Ветер, дующий с северо-северо-запада   2  90  или более, но не 100%   \n",
       "5            Ветер, дующий с северо-запада   1  90  или более, но не 100%   \n",
       "...                                    ...  ..                        ...   \n",
       "6502                      Штиль, безветрие   0                    20–30%.   \n",
       "6503     Ветер, дующий с западо-юго-запада   1                       60%.   \n",
       "6504     Ветер, дующий с западо-юго-запада   1                  70 – 80%.   \n",
       "6505                Ветер, дующий с запада   1                  70 – 80%.   \n",
       "6506                Ветер, дующий с запада   1                  70 – 80%.   \n",
       "\n",
       "        VV    Td  \n",
       "1     10.0   9.3  \n",
       "2     10.0   8.5  \n",
       "3     10.0  10.2  \n",
       "4     10.0  10.3  \n",
       "5      4.0  10.5  \n",
       "...    ...   ...  \n",
       "6502  10.0  -4.8  \n",
       "6503  10.0  -4.3  \n",
       "6504  10.0  -3.4  \n",
       "6505  10.0  -2.5  \n",
       "6506  10.0  -1.8  \n",
       "\n",
       "[3331 rows x 9 columns]"
      ]
     },
     "execution_count": 305,
     "metadata": {},
     "output_type": "execute_result"
    }
   ],
   "source": [
    "df"
   ]
  },
  {
   "cell_type": "code",
   "execution_count": 306,
   "id": "7d2e2565",
   "metadata": {},
   "outputs": [
    {
     "data": {
      "text/plain": [
       "Местное время в Москве (ВДНХ)     object\n",
       "T                                float64\n",
       "Po                               float64\n",
       "U                                float64\n",
       "DD                                object\n",
       "Ff                                 int64\n",
       "N                                 object\n",
       "VV                               float64\n",
       "Td                               float64\n",
       "dtype: object"
      ]
     },
     "execution_count": 306,
     "metadata": {},
     "output_type": "execute_result"
    }
   ],
   "source": [
    "df.dtypes"
   ]
  },
  {
   "cell_type": "code",
   "execution_count": 307,
   "id": "bde45f75",
   "metadata": {},
   "outputs": [
    {
     "data": {
      "text/plain": [
       "array(['10%  или менее, но не 0', '100%.', '20–30%.', '40%.', '50%.',\n",
       "       '60%.', '70 – 80%.', '90  или более, но не 100%', 'Облаков нет.'],\n",
       "      dtype=object)"
      ]
     },
     "execution_count": 307,
     "metadata": {},
     "output_type": "execute_result"
    }
   ],
   "source": [
    "np.unique(df.N.dropna())"
   ]
  },
  {
   "cell_type": "markdown",
   "id": "10e61c57",
   "metadata": {},
   "source": [
    "Посмотрим, какие занчения принимают категориальные признаки"
   ]
  },
  {
   "cell_type": "code",
   "execution_count": 308,
   "id": "6b94c219",
   "metadata": {},
   "outputs": [
    {
     "data": {
      "text/plain": [
       "array(['Ветер, дующий с востока',\n",
       "       'Ветер, дующий с востоко-северо-востока',\n",
       "       'Ветер, дующий с востоко-юго-востока', 'Ветер, дующий с запада',\n",
       "       'Ветер, дующий с западо-северо-запада',\n",
       "       'Ветер, дующий с западо-юго-запада', 'Ветер, дующий с севера',\n",
       "       'Ветер, дующий с северо-востока', 'Ветер, дующий с северо-запада',\n",
       "       'Ветер, дующий с северо-северо-востока',\n",
       "       'Ветер, дующий с северо-северо-запада', 'Ветер, дующий с юга',\n",
       "       'Ветер, дующий с юго-востока', 'Ветер, дующий с юго-запада',\n",
       "       'Ветер, дующий с юго-юго-востока',\n",
       "       'Ветер, дующий с юго-юго-запада', 'Штиль, безветрие'], dtype=object)"
      ]
     },
     "execution_count": 308,
     "metadata": {},
     "output_type": "execute_result"
    }
   ],
   "source": [
    "np.unique(df.DD)"
   ]
  },
  {
   "cell_type": "code",
   "execution_count": 309,
   "id": "7d344803",
   "metadata": {},
   "outputs": [
    {
     "data": {
      "text/plain": [
       "array([ 0.2,  0.5,  1. ,  2. ,  4. , 10. , 20. ])"
      ]
     },
     "execution_count": 309,
     "metadata": {},
     "output_type": "execute_result"
    }
   ],
   "source": [
    "np.unique(df.VV)"
   ]
  },
  {
   "cell_type": "markdown",
   "id": "78fa7b20",
   "metadata": {},
   "source": [
    "Признак N (общая облачность) упорядочить:"
   ]
  },
  {
   "cell_type": "code",
   "execution_count": 310,
   "id": "14ddad1c",
   "metadata": {},
   "outputs": [],
   "source": [
    "mapper_x = {'Облаков нет.': 0 , \n",
    "          '10%  или менее, но не 0': 1, \n",
    "          '20–30%.': 2, \n",
    "          '40%.': 3,\n",
    "          '50%.': 4,\n",
    "          '60%.': 5,\n",
    "          '70 – 80%.': 6,\n",
    "          '90  или более, но не 100%': 7,\n",
    "          '100%.': 8}"
   ]
  },
  {
   "cell_type": "code",
   "execution_count": 311,
   "id": "0ac20171",
   "metadata": {},
   "outputs": [],
   "source": [
    "df.N = df.N.apply(mapper)"
   ]
  },
  {
   "cell_type": "markdown",
   "id": "00e98bc8",
   "metadata": {},
   "source": [
    "Признак VV (горизонтальная дальность видимости) мы решили привести к вещественному виду. Наблюдениям со значением 'менее 0.05' мы даем значение 0.05."
   ]
  },
  {
   "cell_type": "code",
   "execution_count": 312,
   "id": "c0e03a92",
   "metadata": {},
   "outputs": [],
   "source": [
    "def realizer(x):\n",
    "    x = str(x)\n",
    "    if x.split()[0].isalpha():\n",
    "        return float(x.split()[1])\n",
    "    else:\n",
    "        return float(x)"
   ]
  },
  {
   "cell_type": "code",
   "execution_count": 313,
   "id": "aeb39a49",
   "metadata": {},
   "outputs": [],
   "source": [
    "df.VV = df.VV.apply(realizer)"
   ]
  },
  {
   "cell_type": "code",
   "execution_count": 314,
   "id": "1b9f0e5d",
   "metadata": {},
   "outputs": [
    {
     "data": {
      "text/html": [
       "<div>\n",
       "<style scoped>\n",
       "    .dataframe tbody tr th:only-of-type {\n",
       "        vertical-align: middle;\n",
       "    }\n",
       "\n",
       "    .dataframe tbody tr th {\n",
       "        vertical-align: top;\n",
       "    }\n",
       "\n",
       "    .dataframe thead th {\n",
       "        text-align: right;\n",
       "    }\n",
       "</style>\n",
       "<table border=\"1\" class=\"dataframe\">\n",
       "  <thead>\n",
       "    <tr style=\"text-align: right;\">\n",
       "      <th></th>\n",
       "      <th>Местное время в Москве (ВДНХ)</th>\n",
       "      <th>T</th>\n",
       "      <th>Po</th>\n",
       "      <th>U</th>\n",
       "      <th>DD</th>\n",
       "      <th>Ff</th>\n",
       "      <th>N</th>\n",
       "      <th>VV</th>\n",
       "      <th>Td</th>\n",
       "    </tr>\n",
       "  </thead>\n",
       "  <tbody>\n",
       "    <tr>\n",
       "      <th>1</th>\n",
       "      <td>31.08.2015 18:00</td>\n",
       "      <td>17.2</td>\n",
       "      <td>747.4</td>\n",
       "      <td>60.0</td>\n",
       "      <td>Ветер, дующий с северо-запада</td>\n",
       "      <td>1</td>\n",
       "      <td>3</td>\n",
       "      <td>10.0</td>\n",
       "      <td>9.3</td>\n",
       "    </tr>\n",
       "    <tr>\n",
       "      <th>2</th>\n",
       "      <td>31.08.2015 15:00</td>\n",
       "      <td>18.2</td>\n",
       "      <td>747.2</td>\n",
       "      <td>53.0</td>\n",
       "      <td>Ветер, дующий с северо-запада</td>\n",
       "      <td>2</td>\n",
       "      <td>6</td>\n",
       "      <td>10.0</td>\n",
       "      <td>8.5</td>\n",
       "    </tr>\n",
       "    <tr>\n",
       "      <th>3</th>\n",
       "      <td>31.08.2015 12:00</td>\n",
       "      <td>16.7</td>\n",
       "      <td>747.4</td>\n",
       "      <td>66.0</td>\n",
       "      <td>Ветер, дующий с северо-северо-запада</td>\n",
       "      <td>2</td>\n",
       "      <td>7</td>\n",
       "      <td>10.0</td>\n",
       "      <td>10.2</td>\n",
       "    </tr>\n",
       "    <tr>\n",
       "      <th>4</th>\n",
       "      <td>31.08.2015 09:00</td>\n",
       "      <td>13.7</td>\n",
       "      <td>747.3</td>\n",
       "      <td>80.0</td>\n",
       "      <td>Ветер, дующий с северо-северо-запада</td>\n",
       "      <td>2</td>\n",
       "      <td>7</td>\n",
       "      <td>10.0</td>\n",
       "      <td>10.3</td>\n",
       "    </tr>\n",
       "    <tr>\n",
       "      <th>5</th>\n",
       "      <td>31.08.2015 06:00</td>\n",
       "      <td>12.2</td>\n",
       "      <td>747.0</td>\n",
       "      <td>89.0</td>\n",
       "      <td>Ветер, дующий с северо-запада</td>\n",
       "      <td>1</td>\n",
       "      <td>7</td>\n",
       "      <td>4.0</td>\n",
       "      <td>10.5</td>\n",
       "    </tr>\n",
       "  </tbody>\n",
       "</table>\n",
       "</div>"
      ],
      "text/plain": [
       "  Местное время в Москве (ВДНХ)     T     Po     U  \\\n",
       "1              31.08.2015 18:00  17.2  747.4  60.0   \n",
       "2              31.08.2015 15:00  18.2  747.2  53.0   \n",
       "3              31.08.2015 12:00  16.7  747.4  66.0   \n",
       "4              31.08.2015 09:00  13.7  747.3  80.0   \n",
       "5              31.08.2015 06:00  12.2  747.0  89.0   \n",
       "\n",
       "                                     DD  Ff  N    VV    Td  \n",
       "1         Ветер, дующий с северо-запада   1  3  10.0   9.3  \n",
       "2         Ветер, дующий с северо-запада   2  6  10.0   8.5  \n",
       "3  Ветер, дующий с северо-северо-запада   2  7  10.0  10.2  \n",
       "4  Ветер, дующий с северо-северо-запада   2  7  10.0  10.3  \n",
       "5         Ветер, дующий с северо-запада   1  7   4.0  10.5  "
      ]
     },
     "execution_count": 314,
     "metadata": {},
     "output_type": "execute_result"
    }
   ],
   "source": [
    "df.head()"
   ]
  },
  {
   "cell_type": "markdown",
   "id": "857874df",
   "metadata": {},
   "source": [
    "В нашем датасате с погодой для каждого дня присутствуют наблюдения для нескольких временных точек. Мы ограничимся использованием четырех: 9:00, 12:00, 15:00, 18:00. Создадим для них отдельные таблицы"
   ]
  },
  {
   "cell_type": "markdown",
   "id": "ee32261e",
   "metadata": {},
   "source": [
    "#### 9 часов:"
   ]
  },
  {
   "cell_type": "code",
   "execution_count": 315,
   "id": "034b8a66",
   "metadata": {},
   "outputs": [
    {
     "data": {
      "text/html": [
       "<div>\n",
       "<style scoped>\n",
       "    .dataframe tbody tr th:only-of-type {\n",
       "        vertical-align: middle;\n",
       "    }\n",
       "\n",
       "    .dataframe tbody tr th {\n",
       "        vertical-align: top;\n",
       "    }\n",
       "\n",
       "    .dataframe thead th {\n",
       "        text-align: right;\n",
       "    }\n",
       "</style>\n",
       "<table border=\"1\" class=\"dataframe\">\n",
       "  <thead>\n",
       "    <tr style=\"text-align: right;\">\n",
       "      <th></th>\n",
       "      <th>date</th>\n",
       "      <th>T</th>\n",
       "      <th>Po</th>\n",
       "      <th>U</th>\n",
       "      <th>DD</th>\n",
       "      <th>Ff</th>\n",
       "      <th>N</th>\n",
       "      <th>VV</th>\n",
       "      <th>Td</th>\n",
       "    </tr>\n",
       "  </thead>\n",
       "  <tbody>\n",
       "    <tr>\n",
       "      <th>1173</th>\n",
       "      <td>2015-06-09</td>\n",
       "      <td>18.7</td>\n",
       "      <td>750.7</td>\n",
       "      <td>44.0</td>\n",
       "      <td>Ветер, дующий с западо-северо-запада</td>\n",
       "      <td>1</td>\n",
       "      <td>2</td>\n",
       "      <td>10.0</td>\n",
       "      <td>6.1</td>\n",
       "    </tr>\n",
       "    <tr>\n",
       "      <th>195</th>\n",
       "      <td>2015-08-07</td>\n",
       "      <td>22.4</td>\n",
       "      <td>754.3</td>\n",
       "      <td>51.0</td>\n",
       "      <td>Ветер, дующий с западо-северо-запада</td>\n",
       "      <td>1</td>\n",
       "      <td>2</td>\n",
       "      <td>10.0</td>\n",
       "      <td>11.6</td>\n",
       "    </tr>\n",
       "    <tr>\n",
       "      <th>525</th>\n",
       "      <td>2015-07-06</td>\n",
       "      <td>17.0</td>\n",
       "      <td>747.4</td>\n",
       "      <td>49.0</td>\n",
       "      <td>Ветер, дующий с северо-северо-запада</td>\n",
       "      <td>3</td>\n",
       "      <td>1</td>\n",
       "      <td>10.0</td>\n",
       "      <td>6.1</td>\n",
       "    </tr>\n",
       "  </tbody>\n",
       "</table>\n",
       "</div>"
      ],
      "text/plain": [
       "            date     T     Po     U                                    DD  Ff  \\\n",
       "1173  2015-06-09  18.7  750.7  44.0  Ветер, дующий с западо-северо-запада   1   \n",
       "195   2015-08-07  22.4  754.3  51.0  Ветер, дующий с западо-северо-запада   1   \n",
       "525   2015-07-06  17.0  747.4  49.0  Ветер, дующий с северо-северо-запада   3   \n",
       "\n",
       "      N    VV    Td  \n",
       "1173  2  10.0   6.1  \n",
       "195   2  10.0  11.6  \n",
       "525   1  10.0   6.1  "
      ]
     },
     "execution_count": 315,
     "metadata": {},
     "output_type": "execute_result"
    }
   ],
   "source": [
    "df['Местное время в Москве (ВДНХ)'] = pd.to_datetime(df['Местное время в Москве (ВДНХ)'], format='%d.%m.%Y %H:%M')\n",
    "df = df.rename(columns={'Местное время в Москве (ВДНХ)': 'date'})\n",
    "\n",
    "# Фильтрация данных, чтобы оставить только записи со временем 09:00\n",
    "df_9 = df[df['date'].dt.hour == 9]\n",
    "df_9 = pd.DataFrame(df_9)\n",
    "df_9['date'] = df_9['date'].dt.date\n",
    "\n",
    "df_9.sample(3)"
   ]
  },
  {
   "cell_type": "markdown",
   "id": "596b5819",
   "metadata": {},
   "source": [
    "#### 12 часов:"
   ]
  },
  {
   "cell_type": "code",
   "execution_count": 316,
   "id": "4d04c130",
   "metadata": {},
   "outputs": [],
   "source": [
    "df_12 = df[df['date'].dt.hour == 12]\n",
    "df_12 = pd.DataFrame(df_12)\n",
    "df_12['date'] = df_12['date'].dt.date"
   ]
  },
  {
   "cell_type": "markdown",
   "id": "ba821dda",
   "metadata": {},
   "source": [
    "#### 15 часов:"
   ]
  },
  {
   "cell_type": "code",
   "execution_count": 317,
   "id": "37003ea5",
   "metadata": {},
   "outputs": [],
   "source": [
    "df_15 = df[df['date'].dt.hour == 15]\n",
    "df_15 = pd.DataFrame(df_15)\n",
    "df_15['date'] = df_15['date'].dt.date"
   ]
  },
  {
   "cell_type": "markdown",
   "id": "4278bc66",
   "metadata": {},
   "source": [
    "#### 18 часов:"
   ]
  },
  {
   "cell_type": "code",
   "execution_count": 318,
   "id": "16c2598a",
   "metadata": {},
   "outputs": [],
   "source": [
    "df_18 = df[df['date'].dt.hour == 18]\n",
    "df_18 = pd.DataFrame(df_18)\n",
    "df_18['date'] = df_18['date'].dt.date"
   ]
  },
  {
   "cell_type": "markdown",
   "id": "a49b36bb",
   "metadata": {},
   "source": [
    "### Соединяем данные"
   ]
  },
  {
   "cell_type": "markdown",
   "id": "59ac9722",
   "metadata": {},
   "source": [
    "Мы объединяем нашу табличку с постами с табличкой с погодой"
   ]
  },
  {
   "cell_type": "code",
   "execution_count": 319,
   "id": "9b6af6fc",
   "metadata": {},
   "outputs": [
    {
     "data": {
      "text/html": [
       "<div>\n",
       "<style scoped>\n",
       "    .dataframe tbody tr th:only-of-type {\n",
       "        vertical-align: middle;\n",
       "    }\n",
       "\n",
       "    .dataframe tbody tr th {\n",
       "        vertical-align: top;\n",
       "    }\n",
       "\n",
       "    .dataframe thead th {\n",
       "        text-align: right;\n",
       "    }\n",
       "</style>\n",
       "<table border=\"1\" class=\"dataframe\">\n",
       "  <thead>\n",
       "    <tr style=\"text-align: right;\">\n",
       "      <th></th>\n",
       "      <th>author</th>\n",
       "      <th>date</th>\n",
       "      <th>n_likes</th>\n",
       "      <th>n_reposts</th>\n",
       "      <th>with_photo</th>\n",
       "      <th>is_repost?</th>\n",
       "      <th>text</th>\n",
       "    </tr>\n",
       "  </thead>\n",
       "  <tbody>\n",
       "    <tr>\n",
       "      <th>7220</th>\n",
       "      <td>dying</td>\n",
       "      <td>2015-02-09</td>\n",
       "      <td>786</td>\n",
       "      <td>5</td>\n",
       "      <td>False</td>\n",
       "      <td>False</td>\n",
       "      <td>мочь</td>\n",
       "    </tr>\n",
       "    <tr>\n",
       "      <th>8564</th>\n",
       "      <td>dying</td>\n",
       "      <td>2015-01-05</td>\n",
       "      <td>538</td>\n",
       "      <td>7</td>\n",
       "      <td>False</td>\n",
       "      <td>False</td>\n",
       "      <td>друг это человек который приносить домой говнище</td>\n",
       "    </tr>\n",
       "    <tr>\n",
       "      <th>4816</th>\n",
       "      <td>dying</td>\n",
       "      <td>2015-04-17</td>\n",
       "      <td>2491</td>\n",
       "      <td>8</td>\n",
       "      <td>False</td>\n",
       "      <td>False</td>\n",
       "      <td>окей гугл ... 404 found otebites uje ot menya</td>\n",
       "    </tr>\n",
       "  </tbody>\n",
       "</table>\n",
       "</div>"
      ],
      "text/plain": [
       "     author        date  n_likes  n_reposts  with_photo  is_repost?  \\\n",
       "7220  dying  2015-02-09      786          5       False       False   \n",
       "8564  dying  2015-01-05      538          7       False       False   \n",
       "4816  dying  2015-04-17     2491          8       False       False   \n",
       "\n",
       "                                                  text  \n",
       "7220                                              мочь  \n",
       "8564  друг это человек который приносить домой говнище  \n",
       "4816     окей гугл ... 404 found otebites uje ot menya  "
      ]
     },
     "execution_count": 319,
     "metadata": {},
     "output_type": "execute_result"
    }
   ],
   "source": [
    "data = pd.read_csv('lemmatized_no_noise.csv').drop('Unnamed: 0', axis = 1)\n",
    "data.sample(3)"
   ]
  },
  {
   "cell_type": "code",
   "execution_count": 320,
   "id": "85638bbf",
   "metadata": {},
   "outputs": [
    {
     "data": {
      "text/plain": [
       "author         0\n",
       "date           0\n",
       "n_likes        0\n",
       "n_reposts      0\n",
       "with_photo     0\n",
       "is_repost?     0\n",
       "text          24\n",
       "dtype: int64"
      ]
     },
     "execution_count": 320,
     "metadata": {},
     "output_type": "execute_result"
    }
   ],
   "source": [
    "data.isna().sum()"
   ]
  },
  {
   "cell_type": "code",
   "execution_count": 321,
   "id": "1382daef",
   "metadata": {},
   "outputs": [
    {
     "data": {
      "text/html": [
       "<div>\n",
       "<style scoped>\n",
       "    .dataframe tbody tr th:only-of-type {\n",
       "        vertical-align: middle;\n",
       "    }\n",
       "\n",
       "    .dataframe tbody tr th {\n",
       "        vertical-align: top;\n",
       "    }\n",
       "\n",
       "    .dataframe thead th {\n",
       "        text-align: right;\n",
       "    }\n",
       "</style>\n",
       "<table border=\"1\" class=\"dataframe\">\n",
       "  <thead>\n",
       "    <tr style=\"text-align: right;\">\n",
       "      <th></th>\n",
       "      <th>author</th>\n",
       "      <th>date</th>\n",
       "      <th>n_likes</th>\n",
       "      <th>n_reposts</th>\n",
       "      <th>with_photo</th>\n",
       "      <th>is_repost?</th>\n",
       "      <th>text</th>\n",
       "    </tr>\n",
       "  </thead>\n",
       "  <tbody>\n",
       "    <tr>\n",
       "      <th>1333</th>\n",
       "      <td>dying</td>\n",
       "      <td>2015-07-17</td>\n",
       "      <td>750</td>\n",
       "      <td>10</td>\n",
       "      <td>False</td>\n",
       "      <td>False</td>\n",
       "      <td>весь человек человек солнышко</td>\n",
       "    </tr>\n",
       "    <tr>\n",
       "      <th>5861</th>\n",
       "      <td>dying</td>\n",
       "      <td>2015-03-20</td>\n",
       "      <td>1626</td>\n",
       "      <td>19</td>\n",
       "      <td>False</td>\n",
       "      <td>False</td>\n",
       "      <td>любить ой это зря</td>\n",
       "    </tr>\n",
       "    <tr>\n",
       "      <th>7579</th>\n",
       "      <td>dying</td>\n",
       "      <td>2015-01-31</td>\n",
       "      <td>639</td>\n",
       "      <td>3</td>\n",
       "      <td>False</td>\n",
       "      <td>False</td>\n",
       "      <td>красный глаз затуманивать рассудок судить небо...</td>\n",
       "    </tr>\n",
       "  </tbody>\n",
       "</table>\n",
       "</div>"
      ],
      "text/plain": [
       "     author        date  n_likes  n_reposts  with_photo  is_repost?  \\\n",
       "1333  dying  2015-07-17      750         10       False       False   \n",
       "5861  dying  2015-03-20     1626         19       False       False   \n",
       "7579  dying  2015-01-31      639          3       False       False   \n",
       "\n",
       "                                                   text  \n",
       "1333                      весь человек человек солнышко  \n",
       "5861                                  любить ой это зря  \n",
       "7579  красный глаз затуманивать рассудок судить небо...  "
      ]
     },
     "execution_count": 321,
     "metadata": {},
     "output_type": "execute_result"
    }
   ],
   "source": [
    "data.sample(3)"
   ]
  },
  {
   "cell_type": "code",
   "execution_count": 322,
   "id": "8b907e5e",
   "metadata": {},
   "outputs": [],
   "source": [
    "data.date = data.date.apply(str) # для простоты мерджа, переведем все даты в формат строки\n",
    "\n",
    "df_9.date = df_9.date.apply(str)\n",
    "df_12.date = df_12.date.apply(str)\n",
    "df_15.date = df_15.date.apply(str)\n",
    "df_18.date = df_18.date.apply(str)"
   ]
  },
  {
   "cell_type": "code",
   "execution_count": 324,
   "id": "3d822df7",
   "metadata": {},
   "outputs": [],
   "source": [
    "merged_9 = pd.merge(left = data, right = df_9, on = 'date', how = 'left')\n",
    "merged_12 = pd.merge(left = data, right = df_12, on = 'date', how = 'left')\n",
    "merged_15 = pd.merge(left = data, right = df_15, on = 'date', how = 'left')\n",
    "merged_18 = pd.merge(left = data, right = df_18, on = 'date', how = 'left')"
   ]
  },
  {
   "cell_type": "code",
   "execution_count": 326,
   "id": "fca428e1",
   "metadata": {},
   "outputs": [],
   "source": [
    "merged_9.to_csv('data_weather_9.csv')\n",
    "merged_12.to_csv('data_weather_12.csv')\n",
    "merged_15.to_csv('data_weather_15.csv')\n",
    "merged_18.to_csv('data_weather_18.csv')"
   ]
  },
  {
   "cell_type": "code",
   "execution_count": null,
   "id": "4425ca0e",
   "metadata": {},
   "outputs": [],
   "source": []
  }
 ],
 "metadata": {
  "kernelspec": {
   "display_name": "Python 3 (ipykernel)",
   "language": "python",
   "name": "python3"
  },
  "language_info": {
   "codemirror_mode": {
    "name": "ipython",
    "version": 3
   },
   "file_extension": ".py",
   "mimetype": "text/x-python",
   "name": "python",
   "nbconvert_exporter": "python",
   "pygments_lexer": "ipython3",
   "version": "3.9.7"
  }
 },
 "nbformat": 4,
 "nbformat_minor": 5
}
