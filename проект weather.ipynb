{
 "cells": [
  {
   "cell_type": "code",
   "execution_count": 177,
   "id": "f495914d",
   "metadata": {},
   "outputs": [],
   "source": [
    "import pandas as pd\n",
    "import numpy as np\n",
    "import matplotlib.pyplot as plt\n",
    "import scipy.stats as stats\n",
    "\n",
    "from datetime import datetime\n",
    "\n",
    "import warnings\n",
    "warnings.filterwarnings(\"ignore\")"
   ]
  },
  {
   "cell_type": "markdown",
   "id": "9a67ee26",
   "metadata": {},
   "source": [
    "# табличка с погодой:"
   ]
  },
  {
   "cell_type": "markdown",
   "id": "56993c80",
   "metadata": {},
   "source": [
    "Мы взяли данные о погоде в Москве (метеостанция 65518, в районе ВДНХ) в ноябре 2014 - августе 2015 с сайта https://rp5.ru/Архив_погоды_в_По . Из полученного датасета мы используем следующие признаки:\n",
    "\n",
    "- Дата\n",
    "- Температура воздуха в градусах Цельсия (T)\n",
    "- Атмосферное давление в миллиметрах ртутного столба (Po)\n",
    "- Относительная влажность в % (U)\n",
    "- Направление ветра - категориальный признак (DD)\n",
    "- Скорость ветра в метрах в секунду (Ff)\n",
    "- Общая облачность (N)\n",
    "- Горизонтальная дальность видимости в км (VV)\n",
    "- Температура точки росы в градусах Цельсия (Td)"
   ]
  },
  {
   "cell_type": "code",
   "execution_count": 213,
   "id": "cd2d70b0",
   "metadata": {},
   "outputs": [
    {
     "data": {
      "text/html": [
       "<div>\n",
       "<style scoped>\n",
       "    .dataframe tbody tr th:only-of-type {\n",
       "        vertical-align: middle;\n",
       "    }\n",
       "\n",
       "    .dataframe tbody tr th {\n",
       "        vertical-align: top;\n",
       "    }\n",
       "\n",
       "    .dataframe thead th {\n",
       "        text-align: right;\n",
       "    }\n",
       "</style>\n",
       "<table border=\"1\" class=\"dataframe\">\n",
       "  <thead>\n",
       "    <tr style=\"text-align: right;\">\n",
       "      <th></th>\n",
       "      <th>Местное время в По</th>\n",
       "      <th>T</th>\n",
       "      <th>Po</th>\n",
       "      <th>U</th>\n",
       "      <th>DD</th>\n",
       "      <th>Ff</th>\n",
       "      <th>N</th>\n",
       "      <th>VV</th>\n",
       "      <th>Td</th>\n",
       "    </tr>\n",
       "  </thead>\n",
       "  <tbody>\n",
       "    <tr>\n",
       "      <th>0</th>\n",
       "      <td>31.08.2015 21:00</td>\n",
       "      <td>23.1</td>\n",
       "      <td>731.9</td>\n",
       "      <td>94.0</td>\n",
       "      <td>Ветер, дующий с юго-юго-запада</td>\n",
       "      <td>2</td>\n",
       "      <td>90  или более, но не 100%</td>\n",
       "      <td>10</td>\n",
       "      <td>22.1</td>\n",
       "    </tr>\n",
       "    <tr>\n",
       "      <th>1</th>\n",
       "      <td>31.08.2015 18:00</td>\n",
       "      <td>28.6</td>\n",
       "      <td>731.0</td>\n",
       "      <td>83.0</td>\n",
       "      <td>Ветер, дующий с юго-юго-востока</td>\n",
       "      <td>1</td>\n",
       "      <td>90  или более, но не 100%</td>\n",
       "      <td>10</td>\n",
       "      <td>25.4</td>\n",
       "    </tr>\n",
       "    <tr>\n",
       "      <th>2</th>\n",
       "      <td>31.08.2015 15:00</td>\n",
       "      <td>30.0</td>\n",
       "      <td>730.9</td>\n",
       "      <td>72.0</td>\n",
       "      <td>Ветер, дующий с юго-юго-запада</td>\n",
       "      <td>2</td>\n",
       "      <td>90  или более, но не 100%</td>\n",
       "      <td>10</td>\n",
       "      <td>24.4</td>\n",
       "    </tr>\n",
       "  </tbody>\n",
       "</table>\n",
       "</div>"
      ],
      "text/plain": [
       "  Местное время в По     T     Po     U                               DD  Ff  \\\n",
       "0   31.08.2015 21:00  23.1  731.9  94.0   Ветер, дующий с юго-юго-запада   2   \n",
       "1   31.08.2015 18:00  28.6  731.0  83.0  Ветер, дующий с юго-юго-востока   1   \n",
       "2   31.08.2015 15:00  30.0  730.9  72.0   Ветер, дующий с юго-юго-запада   2   \n",
       "\n",
       "                           N  VV    Td  \n",
       "0  90  или более, но не 100%  10  22.1  \n",
       "1  90  или более, но не 100%  10  25.4  \n",
       "2  90  или более, но не 100%  10  24.4  "
      ]
     },
     "execution_count": 213,
     "metadata": {},
     "output_type": "execute_result"
    }
   ],
   "source": [
    "df = pd.read_csv('погода.csv', sep = ';', header = 1)[['Местное время в По', 'T', 'Po', 'U', 'DD', 'Ff', 'N', 'VV', 'Td']]\n",
    "df.head(3)"
   ]
  },
  {
   "cell_type": "code",
   "execution_count": 179,
   "id": "7d2e2565",
   "metadata": {},
   "outputs": [
    {
     "data": {
      "text/plain": [
       "Местное время в По     object\n",
       "T                     float64\n",
       "Po                    float64\n",
       "U                     float64\n",
       "DD                     object\n",
       "Ff                      int64\n",
       "N                      object\n",
       "VV                     object\n",
       "Td                    float64\n",
       "dtype: object"
      ]
     },
     "execution_count": 179,
     "metadata": {},
     "output_type": "execute_result"
    }
   ],
   "source": [
    "df.dtypes"
   ]
  },
  {
   "cell_type": "markdown",
   "id": "10e61c57",
   "metadata": {},
   "source": [
    "Посмотрим, какие занчения принимают категориальные признаки"
   ]
  },
  {
   "cell_type": "code",
   "execution_count": 180,
   "id": "6b94c219",
   "metadata": {},
   "outputs": [
    {
     "data": {
      "text/plain": [
       "array(['Ветер, дующий с востока',\n",
       "       'Ветер, дующий с востоко-северо-востока',\n",
       "       'Ветер, дующий с востоко-юго-востока', 'Ветер, дующий с запада',\n",
       "       'Ветер, дующий с западо-северо-запада',\n",
       "       'Ветер, дующий с западо-юго-запада', 'Ветер, дующий с севера',\n",
       "       'Ветер, дующий с северо-востока', 'Ветер, дующий с северо-запада',\n",
       "       'Ветер, дующий с северо-северо-востока',\n",
       "       'Ветер, дующий с северо-северо-запада', 'Ветер, дующий с юга',\n",
       "       'Ветер, дующий с юго-востока', 'Ветер, дующий с юго-запада',\n",
       "       'Ветер, дующий с юго-юго-востока',\n",
       "       'Ветер, дующий с юго-юго-запада', 'Штиль, безветрие'], dtype=object)"
      ]
     },
     "execution_count": 180,
     "metadata": {},
     "output_type": "execute_result"
    }
   ],
   "source": [
    "np.unique(df.DD)"
   ]
  },
  {
   "cell_type": "code",
   "execution_count": 181,
   "id": "3b42e2c1",
   "metadata": {},
   "outputs": [
    {
     "data": {
      "text/plain": [
       "array(['100%.', '20–30%.', '40%.', '60%.', '90  или более, но не 100%',\n",
       "       'Облаков нет.'], dtype=object)"
      ]
     },
     "execution_count": 181,
     "metadata": {},
     "output_type": "execute_result"
    }
   ],
   "source": [
    "np.unique(df.N)"
   ]
  },
  {
   "cell_type": "code",
   "execution_count": 182,
   "id": "7d344803",
   "metadata": {},
   "outputs": [
    {
     "data": {
      "text/plain": [
       "array(['0.4', '0.7', '0.8', '0.9', '1', '1.2', '1.4', '1.8', '10', '15',\n",
       "       '18', '2', '2.5', '2.8', '20', '3.2', '3.5', '4', '5', '6', '8',\n",
       "       'менее 0.05'], dtype=object)"
      ]
     },
     "execution_count": 182,
     "metadata": {},
     "output_type": "execute_result"
    }
   ],
   "source": [
    "np.unique(df.VV)"
   ]
  },
  {
   "cell_type": "markdown",
   "id": "78fa7b20",
   "metadata": {},
   "source": [
    "Признак N (общая облачность) упорядочить:"
   ]
  },
  {
   "cell_type": "code",
   "execution_count": 183,
   "id": "14ddad1c",
   "metadata": {},
   "outputs": [],
   "source": [
    "mapper = {'Облаков нет.': 0 , '20–30%.': 1, '40%.': 2, '60%.': 3,  '90  или более, но не 100%': 4, '100%.': 5}"
   ]
  },
  {
   "cell_type": "code",
   "execution_count": 184,
   "id": "0ac20171",
   "metadata": {},
   "outputs": [],
   "source": [
    "df.N = df.N.apply(lambda x: mapper[x])"
   ]
  },
  {
   "cell_type": "markdown",
   "id": "00e98bc8",
   "metadata": {},
   "source": [
    "Признак VV (горизонтальная дальность видимости) мы решили привести к вещественному виду. Наблюдениям со значением 'менее 0.05' мы даем значение 0.05."
   ]
  },
  {
   "cell_type": "code",
   "execution_count": 185,
   "id": "c0e03a92",
   "metadata": {},
   "outputs": [],
   "source": [
    "def realizer(x):\n",
    "    if x.split()[0].isalpha():\n",
    "        return float(x.split()[1])\n",
    "    else:\n",
    "        return float(x)"
   ]
  },
  {
   "cell_type": "code",
   "execution_count": 186,
   "id": "aeb39a49",
   "metadata": {},
   "outputs": [],
   "source": [
    "df.VV = df.VV.apply(realizer)"
   ]
  },
  {
   "cell_type": "code",
   "execution_count": 187,
   "id": "1b9f0e5d",
   "metadata": {},
   "outputs": [
    {
     "data": {
      "text/html": [
       "<div>\n",
       "<style scoped>\n",
       "    .dataframe tbody tr th:only-of-type {\n",
       "        vertical-align: middle;\n",
       "    }\n",
       "\n",
       "    .dataframe tbody tr th {\n",
       "        vertical-align: top;\n",
       "    }\n",
       "\n",
       "    .dataframe thead th {\n",
       "        text-align: right;\n",
       "    }\n",
       "</style>\n",
       "<table border=\"1\" class=\"dataframe\">\n",
       "  <thead>\n",
       "    <tr style=\"text-align: right;\">\n",
       "      <th></th>\n",
       "      <th>Местное время в По</th>\n",
       "      <th>T</th>\n",
       "      <th>Po</th>\n",
       "      <th>U</th>\n",
       "      <th>DD</th>\n",
       "      <th>Ff</th>\n",
       "      <th>N</th>\n",
       "      <th>VV</th>\n",
       "      <th>Td</th>\n",
       "    </tr>\n",
       "  </thead>\n",
       "  <tbody>\n",
       "    <tr>\n",
       "      <th>0</th>\n",
       "      <td>31.08.2015 21:00</td>\n",
       "      <td>23.1</td>\n",
       "      <td>731.9</td>\n",
       "      <td>94.0</td>\n",
       "      <td>Ветер, дующий с юго-юго-запада</td>\n",
       "      <td>2</td>\n",
       "      <td>4</td>\n",
       "      <td>10.0</td>\n",
       "      <td>22.1</td>\n",
       "    </tr>\n",
       "    <tr>\n",
       "      <th>1</th>\n",
       "      <td>31.08.2015 18:00</td>\n",
       "      <td>28.6</td>\n",
       "      <td>731.0</td>\n",
       "      <td>83.0</td>\n",
       "      <td>Ветер, дующий с юго-юго-востока</td>\n",
       "      <td>1</td>\n",
       "      <td>4</td>\n",
       "      <td>10.0</td>\n",
       "      <td>25.4</td>\n",
       "    </tr>\n",
       "    <tr>\n",
       "      <th>2</th>\n",
       "      <td>31.08.2015 15:00</td>\n",
       "      <td>30.0</td>\n",
       "      <td>730.9</td>\n",
       "      <td>72.0</td>\n",
       "      <td>Ветер, дующий с юго-юго-запада</td>\n",
       "      <td>2</td>\n",
       "      <td>4</td>\n",
       "      <td>10.0</td>\n",
       "      <td>24.4</td>\n",
       "    </tr>\n",
       "    <tr>\n",
       "      <th>3</th>\n",
       "      <td>31.08.2015 12:00</td>\n",
       "      <td>29.4</td>\n",
       "      <td>732.4</td>\n",
       "      <td>75.0</td>\n",
       "      <td>Ветер, дующий с юго-запада</td>\n",
       "      <td>2</td>\n",
       "      <td>4</td>\n",
       "      <td>10.0</td>\n",
       "      <td>24.6</td>\n",
       "    </tr>\n",
       "    <tr>\n",
       "      <th>4</th>\n",
       "      <td>31.08.2015 9:00</td>\n",
       "      <td>26.5</td>\n",
       "      <td>732.7</td>\n",
       "      <td>84.0</td>\n",
       "      <td>Ветер, дующий с юго-запада</td>\n",
       "      <td>2</td>\n",
       "      <td>4</td>\n",
       "      <td>10.0</td>\n",
       "      <td>23.6</td>\n",
       "    </tr>\n",
       "  </tbody>\n",
       "</table>\n",
       "</div>"
      ],
      "text/plain": [
       "  Местное время в По     T     Po     U                               DD  Ff  \\\n",
       "0   31.08.2015 21:00  23.1  731.9  94.0   Ветер, дующий с юго-юго-запада   2   \n",
       "1   31.08.2015 18:00  28.6  731.0  83.0  Ветер, дующий с юго-юго-востока   1   \n",
       "2   31.08.2015 15:00  30.0  730.9  72.0   Ветер, дующий с юго-юго-запада   2   \n",
       "3   31.08.2015 12:00  29.4  732.4  75.0       Ветер, дующий с юго-запада   2   \n",
       "4    31.08.2015 9:00  26.5  732.7  84.0       Ветер, дующий с юго-запада   2   \n",
       "\n",
       "   N    VV    Td  \n",
       "0  4  10.0  22.1  \n",
       "1  4  10.0  25.4  \n",
       "2  4  10.0  24.4  \n",
       "3  4  10.0  24.6  \n",
       "4  4  10.0  23.6  "
      ]
     },
     "execution_count": 187,
     "metadata": {},
     "output_type": "execute_result"
    }
   ],
   "source": [
    "df.head()"
   ]
  },
  {
   "cell_type": "markdown",
   "id": "857874df",
   "metadata": {},
   "source": [
    "В нашем датасате с погодой для каждого дня присутствуют наблюдения для нескольких временных точек. Мы ограничимся использованием четырех: 9:00, 12:00, 15:00, 18:00. Создадим для них отдельные таблицы"
   ]
  },
  {
   "cell_type": "markdown",
   "id": "ee32261e",
   "metadata": {},
   "source": [
    "#### 9 часов:"
   ]
  },
  {
   "cell_type": "code",
   "execution_count": 188,
   "id": "034b8a66",
   "metadata": {},
   "outputs": [
    {
     "data": {
      "text/html": [
       "<div>\n",
       "<style scoped>\n",
       "    .dataframe tbody tr th:only-of-type {\n",
       "        vertical-align: middle;\n",
       "    }\n",
       "\n",
       "    .dataframe tbody tr th {\n",
       "        vertical-align: top;\n",
       "    }\n",
       "\n",
       "    .dataframe thead th {\n",
       "        text-align: right;\n",
       "    }\n",
       "</style>\n",
       "<table border=\"1\" class=\"dataframe\">\n",
       "  <thead>\n",
       "    <tr style=\"text-align: right;\">\n",
       "      <th></th>\n",
       "      <th>date</th>\n",
       "      <th>T</th>\n",
       "      <th>Po</th>\n",
       "      <th>U</th>\n",
       "      <th>DD</th>\n",
       "      <th>Ff</th>\n",
       "      <th>N</th>\n",
       "      <th>VV</th>\n",
       "      <th>Td</th>\n",
       "    </tr>\n",
       "  </thead>\n",
       "  <tbody>\n",
       "    <tr>\n",
       "      <th>131</th>\n",
       "      <td>2015-08-15</td>\n",
       "      <td>23.8</td>\n",
       "      <td>731.2</td>\n",
       "      <td>91.0</td>\n",
       "      <td>Ветер, дующий с юго-юго-востока</td>\n",
       "      <td>1</td>\n",
       "      <td>4</td>\n",
       "      <td>10.0</td>\n",
       "      <td>22.3</td>\n",
       "    </tr>\n",
       "    <tr>\n",
       "      <th>1814</th>\n",
       "      <td>2015-01-06</td>\n",
       "      <td>22.0</td>\n",
       "      <td>733.8</td>\n",
       "      <td>20.0</td>\n",
       "      <td>Ветер, дующий с севера</td>\n",
       "      <td>6</td>\n",
       "      <td>4</td>\n",
       "      <td>10.0</td>\n",
       "      <td>-1.9</td>\n",
       "    </tr>\n",
       "    <tr>\n",
       "      <th>226</th>\n",
       "      <td>2015-08-03</td>\n",
       "      <td>26.4</td>\n",
       "      <td>732.2</td>\n",
       "      <td>86.0</td>\n",
       "      <td>Ветер, дующий с юга</td>\n",
       "      <td>2</td>\n",
       "      <td>4</td>\n",
       "      <td>10.0</td>\n",
       "      <td>23.8</td>\n",
       "    </tr>\n",
       "  </tbody>\n",
       "</table>\n",
       "</div>"
      ],
      "text/plain": [
       "            date     T     Po     U                               DD  Ff  N  \\\n",
       "131   2015-08-15  23.8  731.2  91.0  Ветер, дующий с юго-юго-востока   1  4   \n",
       "1814  2015-01-06  22.0  733.8  20.0           Ветер, дующий с севера   6  4   \n",
       "226   2015-08-03  26.4  732.2  86.0              Ветер, дующий с юга   2  4   \n",
       "\n",
       "        VV    Td  \n",
       "131   10.0  22.3  \n",
       "1814  10.0  -1.9  \n",
       "226   10.0  23.8  "
      ]
     },
     "execution_count": 188,
     "metadata": {},
     "output_type": "execute_result"
    }
   ],
   "source": [
    "df['Местное время в По'] = pd.to_datetime(df['Местное время в По'], format='%d.%m.%Y %H:%M')\n",
    "df = df.rename(columns={'Местное время в По': 'date'})\n",
    "\n",
    "# Фильтрация данных, чтобы оставить только записи со временем 09:00\n",
    "df_9 = df[df['date'].dt.hour == 9]\n",
    "df_9 = pd.DataFrame(df_9)\n",
    "df_9['date'] = df_9['date'].dt.date\n",
    "\n",
    "df_9.sample(3)"
   ]
  },
  {
   "cell_type": "markdown",
   "id": "596b5819",
   "metadata": {},
   "source": [
    "#### 12 часов:"
   ]
  },
  {
   "cell_type": "code",
   "execution_count": 189,
   "id": "4d04c130",
   "metadata": {},
   "outputs": [],
   "source": [
    "df_12 = df[df['date'].dt.hour == 12]\n",
    "df_12 = pd.DataFrame(df_12)\n",
    "df_12['date'] = df_12['date'].dt.date"
   ]
  },
  {
   "cell_type": "markdown",
   "id": "ba821dda",
   "metadata": {},
   "source": [
    "#### 15 часов:"
   ]
  },
  {
   "cell_type": "code",
   "execution_count": 190,
   "id": "37003ea5",
   "metadata": {},
   "outputs": [],
   "source": [
    "df_15 = df[df['date'].dt.hour == 15]\n",
    "df_15 = pd.DataFrame(df_15)\n",
    "df_15['date'] = df_15['date'].dt.date"
   ]
  },
  {
   "cell_type": "markdown",
   "id": "4278bc66",
   "metadata": {},
   "source": [
    "#### 18 часов:"
   ]
  },
  {
   "cell_type": "code",
   "execution_count": 191,
   "id": "16c2598a",
   "metadata": {},
   "outputs": [],
   "source": [
    "df_18 = df[df['date'].dt.hour == 18]\n",
    "df_18 = pd.DataFrame(df_18)\n",
    "df_18['date'] = df_18['date'].dt.date"
   ]
  },
  {
   "cell_type": "markdown",
   "id": "a49b36bb",
   "metadata": {},
   "source": [
    "### Соединяем данные"
   ]
  },
  {
   "cell_type": "markdown",
   "id": "59ac9722",
   "metadata": {},
   "source": [
    "Мы объединяем нашу табличку с постами с табличкой с погодой"
   ]
  },
  {
   "cell_type": "code",
   "execution_count": 192,
   "id": "9b6af6fc",
   "metadata": {},
   "outputs": [
    {
     "data": {
      "text/html": [
       "<div>\n",
       "<style scoped>\n",
       "    .dataframe tbody tr th:only-of-type {\n",
       "        vertical-align: middle;\n",
       "    }\n",
       "\n",
       "    .dataframe tbody tr th {\n",
       "        vertical-align: top;\n",
       "    }\n",
       "\n",
       "    .dataframe thead th {\n",
       "        text-align: right;\n",
       "    }\n",
       "</style>\n",
       "<table border=\"1\" class=\"dataframe\">\n",
       "  <thead>\n",
       "    <tr style=\"text-align: right;\">\n",
       "      <th></th>\n",
       "      <th>author</th>\n",
       "      <th>date</th>\n",
       "      <th>n_likes</th>\n",
       "      <th>n_reposts</th>\n",
       "      <th>with_photo</th>\n",
       "      <th>is_repost?</th>\n",
       "      <th>text</th>\n",
       "    </tr>\n",
       "  </thead>\n",
       "  <tbody>\n",
       "    <tr>\n",
       "      <th>8384</th>\n",
       "      <td>dying</td>\n",
       "      <td>2015-01-10</td>\n",
       "      <td>537</td>\n",
       "      <td>7</td>\n",
       "      <td>False</td>\n",
       "      <td>False</td>\n",
       "      <td>весь наставать end</td>\n",
       "    </tr>\n",
       "    <tr>\n",
       "      <th>8824</th>\n",
       "      <td>dying</td>\n",
       "      <td>2014-12-29</td>\n",
       "      <td>350</td>\n",
       "      <td>2</td>\n",
       "      <td>False</td>\n",
       "      <td>False</td>\n",
       "      <td>любовь игнор</td>\n",
       "    </tr>\n",
       "    <tr>\n",
       "      <th>2322</th>\n",
       "      <td>dying</td>\n",
       "      <td>2015-06-22</td>\n",
       "      <td>978</td>\n",
       "      <td>14</td>\n",
       "      <td>False</td>\n",
       "      <td>False</td>\n",
       "      <td>писать онлайн</td>\n",
       "    </tr>\n",
       "  </tbody>\n",
       "</table>\n",
       "</div>"
      ],
      "text/plain": [
       "     author        date  n_likes  n_reposts  with_photo  is_repost?  \\\n",
       "8384  dying  2015-01-10      537          7       False       False   \n",
       "8824  dying  2014-12-29      350          2       False       False   \n",
       "2322  dying  2015-06-22      978         14       False       False   \n",
       "\n",
       "                    text  \n",
       "8384  весь наставать end  \n",
       "8824        любовь игнор  \n",
       "2322       писать онлайн  "
      ]
     },
     "execution_count": 192,
     "metadata": {},
     "output_type": "execute_result"
    }
   ],
   "source": [
    "data = pd.read_csv('lemmatized_no_noise.csv').drop('Unnamed: 0', axis = 1)\n",
    "data.sample(3)"
   ]
  },
  {
   "cell_type": "code",
   "execution_count": 193,
   "id": "85638bbf",
   "metadata": {},
   "outputs": [
    {
     "data": {
      "text/plain": [
       "author         0\n",
       "date           0\n",
       "n_likes        0\n",
       "n_reposts      0\n",
       "with_photo     0\n",
       "is_repost?     0\n",
       "text          24\n",
       "dtype: int64"
      ]
     },
     "execution_count": 193,
     "metadata": {},
     "output_type": "execute_result"
    }
   ],
   "source": [
    "data.isna().sum()"
   ]
  },
  {
   "cell_type": "code",
   "execution_count": 214,
   "id": "1382daef",
   "metadata": {},
   "outputs": [
    {
     "data": {
      "text/html": [
       "<div>\n",
       "<style scoped>\n",
       "    .dataframe tbody tr th:only-of-type {\n",
       "        vertical-align: middle;\n",
       "    }\n",
       "\n",
       "    .dataframe tbody tr th {\n",
       "        vertical-align: top;\n",
       "    }\n",
       "\n",
       "    .dataframe thead th {\n",
       "        text-align: right;\n",
       "    }\n",
       "</style>\n",
       "<table border=\"1\" class=\"dataframe\">\n",
       "  <thead>\n",
       "    <tr style=\"text-align: right;\">\n",
       "      <th></th>\n",
       "      <th>author</th>\n",
       "      <th>date</th>\n",
       "      <th>n_likes</th>\n",
       "      <th>n_reposts</th>\n",
       "      <th>with_photo</th>\n",
       "      <th>is_repost?</th>\n",
       "      <th>text</th>\n",
       "    </tr>\n",
       "  </thead>\n",
       "  <tbody>\n",
       "    <tr>\n",
       "      <th>6857</th>\n",
       "      <td>dying</td>\n",
       "      <td>2015-02-19</td>\n",
       "      <td>887</td>\n",
       "      <td>6</td>\n",
       "      <td>False</td>\n",
       "      <td>False</td>\n",
       "      <td>сколько помнить мочь забывать</td>\n",
       "    </tr>\n",
       "    <tr>\n",
       "      <th>2345</th>\n",
       "      <td>dying</td>\n",
       "      <td>2015-06-21</td>\n",
       "      <td>1412</td>\n",
       "      <td>31</td>\n",
       "      <td>False</td>\n",
       "      <td>False</td>\n",
       "      <td>девушка писать значит соскучиться писать значи...</td>\n",
       "    </tr>\n",
       "    <tr>\n",
       "      <th>932</th>\n",
       "      <td>dying</td>\n",
       "      <td>2015-07-26</td>\n",
       "      <td>391</td>\n",
       "      <td>2</td>\n",
       "      <td>False</td>\n",
       "      <td>False</td>\n",
       "      <td>хотеть</td>\n",
       "    </tr>\n",
       "  </tbody>\n",
       "</table>\n",
       "</div>"
      ],
      "text/plain": [
       "     author        date  n_likes  n_reposts  with_photo  is_repost?  \\\n",
       "6857  dying  2015-02-19      887          6       False       False   \n",
       "2345  dying  2015-06-21     1412         31       False       False   \n",
       "932   dying  2015-07-26      391          2       False       False   \n",
       "\n",
       "                                                   text  \n",
       "6857                      сколько помнить мочь забывать  \n",
       "2345  девушка писать значит соскучиться писать значи...  \n",
       "932                                              хотеть  "
      ]
     },
     "execution_count": 214,
     "metadata": {},
     "output_type": "execute_result"
    }
   ],
   "source": [
    "data.sample(3)"
   ]
  },
  {
   "cell_type": "code",
   "execution_count": 206,
   "id": "8b907e5e",
   "metadata": {},
   "outputs": [],
   "source": [
    "data.date = data.date.apply(str) # для простоты мерджа, переведем все даты в формат строки\n",
    "\n",
    "df_9.date = df_9.date.apply(str)\n",
    "df_12.date = df_12.date.apply(str)\n",
    "df_15.date = df_15.date.apply(str)\n",
    "df_18.date = df_18.date.apply(str)"
   ]
  },
  {
   "cell_type": "code",
   "execution_count": 207,
   "id": "3d822df7",
   "metadata": {},
   "outputs": [],
   "source": [
    "merged_9 = pd.merge(left = data, right = df_9, on = 'date', how = 'left')\n",
    "merged_12 = pd.merge(left = data, right = df_12, on = 'date', how = 'left')\n",
    "merged_15 = pd.merge(left = data, right = df_15, on = 'date', how = 'left')\n",
    "merged_18 = pd.merge(left = data, right = df_18, on = 'date', how = 'left')"
   ]
  },
  {
   "cell_type": "code",
   "execution_count": 215,
   "id": "fca428e1",
   "metadata": {},
   "outputs": [],
   "source": [
    "merged_9.to_csv('data_weather_9.csv')\n",
    "merged_12.to_csv('data_weather_12.csv')\n",
    "merged_15.to_csv('data_weather_15.csv')\n",
    "merged_18.to_csv('data_weather_18.csv')"
   ]
  },
  {
   "cell_type": "code",
   "execution_count": null,
   "id": "b886de98",
   "metadata": {},
   "outputs": [],
   "source": []
  }
 ],
 "metadata": {
  "kernelspec": {
   "display_name": "Python 3 (ipykernel)",
   "language": "python",
   "name": "python3"
  },
  "language_info": {
   "codemirror_mode": {
    "name": "ipython",
    "version": 3
   },
   "file_extension": ".py",
   "mimetype": "text/x-python",
   "name": "python",
   "nbconvert_exporter": "python",
   "pygments_lexer": "ipython3",
   "version": "3.9.7"
  }
 },
 "nbformat": 4,
 "nbformat_minor": 5
}
