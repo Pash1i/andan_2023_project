{
 "cells": [
  {
   "cell_type": "code",
   "execution_count": 38,
   "id": "89fce8d6",
   "metadata": {},
   "outputs": [],
   "source": [
    "import numpy as np                        # базовые модули\n",
    "import matplotlib.pyplot as plt\n",
    "import pandas as pd \n",
    "import scipy.stats as stats\n",
    "\n",
    "import nltk                               # для обработки текстов \n",
    "from nltk.tokenize import word_tokenize\n",
    "from nltk.corpus import stopwords\n",
    "from string import punctuation\n",
    "\n",
    "from datetime import datetime \n",
    "\n",
    "import warnings\n",
    "warnings.filterwarnings(\"ignore\")"
   ]
  },
  {
   "cell_type": "markdown",
   "id": "a257c2e4",
   "metadata": {},
   "source": [
    "В этой тетрадке мы первично обрабытываем исходный датасет с постами, собранный парсером"
   ]
  },
  {
   "cell_type": "code",
   "execution_count": 39,
   "id": "212a7236",
   "metadata": {},
   "outputs": [],
   "source": [
    "data = pd.read_csv('data.csv').drop('Unnamed: 0', axis = 1)"
   ]
  },
  {
   "cell_type": "code",
   "execution_count": 27,
   "id": "0e2fed49",
   "metadata": {},
   "outputs": [],
   "source": [
    "no_text_idx = data[data.text.isna()].index"
   ]
  },
  {
   "cell_type": "code",
   "execution_count": 28,
   "id": "2db75b00",
   "metadata": {},
   "outputs": [],
   "source": [
    "with_text = data.drop(index = no_text_idx)"
   ]
  },
  {
   "cell_type": "code",
   "execution_count": 30,
   "id": "4d1adbdb",
   "metadata": {},
   "outputs": [],
   "source": [
    "with_text['text'] = with_text['text'].apply(lambda x: ' '.join(x.split('\\n')))"
   ]
  },
  {
   "cell_type": "code",
   "execution_count": 31,
   "id": "88d9d09d",
   "metadata": {},
   "outputs": [],
   "source": [
    "with_text.reset_index(inplace = True)"
   ]
  },
  {
   "cell_type": "code",
   "execution_count": 32,
   "id": "0d437a13",
   "metadata": {},
   "outputs": [],
   "source": [
    "with_text.drop('index', axis = 1, inplace = True)"
   ]
  },
  {
   "cell_type": "markdown",
   "id": "6299e908",
   "metadata": {},
   "source": [
    "Лемматизация -- приведем слова во всех постах в начальную форму."
   ]
  },
  {
   "cell_type": "code",
   "execution_count": 33,
   "id": "28f6db88",
   "metadata": {},
   "outputs": [],
   "source": [
    "from pymystem3 import Mystem\n",
    "\n",
    "mystem_analyzer = Mystem()"
   ]
  },
  {
   "cell_type": "markdown",
   "id": "a6891cf6",
   "metadata": {},
   "source": [
    "Не трогайте ячейку ниже, она отрабатывалась полтора часа)"
   ]
  },
  {
   "cell_type": "code",
   "execution_count": 43,
   "id": "a828a772",
   "metadata": {},
   "outputs": [],
   "source": [
    "with_text['text'] = with_text['text'].apply(lambda x: ' '.join(mystem_analyzer.lemmatize(x)[:-1]))"
   ]
  },
  {
   "cell_type": "code",
   "execution_count": 45,
   "id": "86382c73",
   "metadata": {},
   "outputs": [],
   "source": [
    "with_text.to_csv('lemmatized.csv')"
   ]
  },
  {
   "cell_type": "code",
   "execution_count": 43,
   "id": "c962b3d7",
   "metadata": {},
   "outputs": [],
   "source": [
    "with_text = pd.read_csv('lemmatized.csv')"
   ]
  },
  {
   "cell_type": "code",
   "execution_count": 44,
   "id": "d761d051",
   "metadata": {},
   "outputs": [
    {
     "data": {
      "text/plain": [
       "'подруга  -  это   святой !  особенно ,  если   она   звать   леся'"
      ]
     },
     "execution_count": 44,
     "metadata": {},
     "output_type": "execute_result"
    }
   ],
   "source": [
    "with_text.text[214]"
   ]
  },
  {
   "cell_type": "code",
   "execution_count": 45,
   "id": "413f88ae",
   "metadata": {},
   "outputs": [
    {
     "data": {
      "text/plain": [
       "True"
      ]
     },
     "execution_count": 45,
     "metadata": {},
     "output_type": "execute_result"
    }
   ],
   "source": [
    "nltk.download(\"punkt\", quiet=True)\n",
    "nltk.download(\"stopwords\", quiet=True)"
   ]
  },
  {
   "cell_type": "markdown",
   "id": "ba301bc6",
   "metadata": {},
   "source": [
    "Избавимся от пунктуации и стоп-слов в тексте."
   ]
  },
  {
   "cell_type": "code",
   "execution_count": 46,
   "id": "b0014a45",
   "metadata": {},
   "outputs": [],
   "source": [
    "noise = set(stopwords.words('russian') + stopwords.words('english') + list(punctuation))"
   ]
  },
  {
   "cell_type": "code",
   "execution_count": 47,
   "id": "b70a7f77",
   "metadata": {},
   "outputs": [],
   "source": [
    "def stopwords_dropper(string):\n",
    "    noise = set(stopwords.words('russian') + stopwords.words('english') + list(punctuation + '—–'))  \n",
    "    \n",
    "    text = str(string).split() # лемматизатор уже отделил всю пунктуацию пробелами\n",
    "    out = []\n",
    "    \n",
    "    for word in text:\n",
    "        if word in noise:\n",
    "            continue\n",
    "        else:\n",
    "            out.append(word)\n",
    "            \n",
    "    return ' '.join(out)"
   ]
  },
  {
   "cell_type": "code",
   "execution_count": 48,
   "id": "7125774b",
   "metadata": {},
   "outputs": [],
   "source": [
    "wo_stopwords = with_text['text'].apply(stopwords_dropper)"
   ]
  },
  {
   "cell_type": "code",
   "execution_count": 49,
   "id": "9f59a3d8",
   "metadata": {},
   "outputs": [],
   "source": [
    "data_no_stopwords = with_text[['author', 'date', 'n_likes', 'n_reposts', 'with_photo', 'is_repost?']]"
   ]
  },
  {
   "cell_type": "code",
   "execution_count": 50,
   "id": "38cae9d2",
   "metadata": {},
   "outputs": [],
   "source": [
    "data_no_stopwords['text'] = wo_stopwords"
   ]
  },
  {
   "cell_type": "markdown",
   "id": "5ee0e183",
   "metadata": {},
   "source": [
    "Дополнительно сохраним файл без шумов. Но сначала переведем даты в формат datetime"
   ]
  },
  {
   "cell_type": "code",
   "execution_count": 51,
   "id": "91c5adfb",
   "metadata": {},
   "outputs": [],
   "source": [
    "def datetimer(string):\n",
    "    month_dict = {\n",
    "    'янв': '01',\n",
    "    'фев': '02',\n",
    "    'мар': '03',\n",
    "    'апр': '04',\n",
    "    'мая': '05',\n",
    "    'июн': '06',\n",
    "    'июл': '07',\n",
    "    'авг': '08',\n",
    "    'сен': '09',\n",
    "    'окт': '10',\n",
    "    'ноя': '11',\n",
    "    'дек': '12'\n",
    "    }\n",
    "    date = string.split()\n",
    "    day = int(date[0])\n",
    "    year = int(date[2])\n",
    "    month = int(month_dict[date[1]])\n",
    "    date = datetime(year, month, day)\n",
    "    return date"
   ]
  },
  {
   "cell_type": "code",
   "execution_count": 52,
   "id": "22e242a7",
   "metadata": {},
   "outputs": [],
   "source": [
    "data_no_stopwords.date = data_no_stopwords.date.apply(datetimer)"
   ]
  },
  {
   "cell_type": "code",
   "execution_count": 53,
   "id": "b25d9eb8",
   "metadata": {},
   "outputs": [],
   "source": [
    "data_no_stopwords.to_csv('lemmatized_no_noise.csv')"
   ]
  },
  {
   "cell_type": "code",
   "execution_count": null,
   "id": "c6974534",
   "metadata": {},
   "outputs": [],
   "source": []
  }
 ],
 "metadata": {
  "kernelspec": {
   "display_name": "Python 3 (ipykernel)",
   "language": "python",
   "name": "python3"
  },
  "language_info": {
   "codemirror_mode": {
    "name": "ipython",
    "version": 3
   },
   "file_extension": ".py",
   "mimetype": "text/x-python",
   "name": "python",
   "nbconvert_exporter": "python",
   "pygments_lexer": "ipython3",
   "version": "3.9.7"
  }
 },
 "nbformat": 4,
 "nbformat_minor": 5
}
