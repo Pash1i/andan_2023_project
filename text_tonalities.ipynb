{
 "cells": [
  {
   "cell_type": "code",
   "execution_count": 11,
   "id": "f495914d",
   "metadata": {},
   "outputs": [],
   "source": [
    "import pandas as pd\n",
    "import numpy as np\n",
    "import matplotlib.pyplot as plt\n",
    "import scipy.stats as stats\n",
    "\n",
    "from datetime import datetime\n",
    "\n",
    "from textblob import TextBlob\n",
    "\n",
    "import warnings\n",
    "warnings.filterwarnings(\"ignore\")"
   ]
  },
  {
   "cell_type": "code",
   "execution_count": 12,
   "id": "9b6af6fc",
   "metadata": {},
   "outputs": [
    {
     "data": {
      "text/html": [
       "<div>\n",
       "<style scoped>\n",
       "    .dataframe tbody tr th:only-of-type {\n",
       "        vertical-align: middle;\n",
       "    }\n",
       "\n",
       "    .dataframe tbody tr th {\n",
       "        vertical-align: top;\n",
       "    }\n",
       "\n",
       "    .dataframe thead th {\n",
       "        text-align: right;\n",
       "    }\n",
       "</style>\n",
       "<table border=\"1\" class=\"dataframe\">\n",
       "  <thead>\n",
       "    <tr style=\"text-align: right;\">\n",
       "      <th></th>\n",
       "      <th>author</th>\n",
       "      <th>date</th>\n",
       "      <th>n_likes</th>\n",
       "      <th>n_reposts</th>\n",
       "      <th>with_photo</th>\n",
       "      <th>is_repost?</th>\n",
       "      <th>text</th>\n",
       "    </tr>\n",
       "  </thead>\n",
       "  <tbody>\n",
       "    <tr>\n",
       "      <th>3925</th>\n",
       "      <td>dying</td>\n",
       "      <td>2015-05-12</td>\n",
       "      <td>1419</td>\n",
       "      <td>16</td>\n",
       "      <td>False</td>\n",
       "      <td>False</td>\n",
       "      <td>забавно человек говорить значить очень многое ...</td>\n",
       "    </tr>\n",
       "    <tr>\n",
       "      <th>4781</th>\n",
       "      <td>dying</td>\n",
       "      <td>2015-04-18</td>\n",
       "      <td>1055</td>\n",
       "      <td>11</td>\n",
       "      <td>False</td>\n",
       "      <td>False</td>\n",
       "      <td>история злой инн инна добрый</td>\n",
       "    </tr>\n",
       "    <tr>\n",
       "      <th>5531</th>\n",
       "      <td>dying</td>\n",
       "      <td>2015-03-29</td>\n",
       "      <td>2164</td>\n",
       "      <td>16</td>\n",
       "      <td>False</td>\n",
       "      <td>False</td>\n",
       "      <td>история грустный лена лена весело</td>\n",
       "    </tr>\n",
       "  </tbody>\n",
       "</table>\n",
       "</div>"
      ],
      "text/plain": [
       "     author        date  n_likes  n_reposts  with_photo  is_repost?  \\\n",
       "3925  dying  2015-05-12     1419         16       False       False   \n",
       "4781  dying  2015-04-18     1055         11       False       False   \n",
       "5531  dying  2015-03-29     2164         16       False       False   \n",
       "\n",
       "                                                   text  \n",
       "3925  забавно человек говорить значить очень многое ...  \n",
       "4781                       история злой инн инна добрый  \n",
       "5531                  история грустный лена лена весело  "
      ]
     },
     "execution_count": 12,
     "metadata": {},
     "output_type": "execute_result"
    }
   ],
   "source": [
    "data = pd.read_csv('lemmatized_no_noise.csv').drop('Unnamed: 0', axis = 1)\n",
    "data.sample(3)"
   ]
  },
  {
   "cell_type": "markdown",
   "id": "3c077757",
   "metadata": {},
   "source": [
    "# пытаемся анализировать тональность текста постов:"
   ]
  },
  {
   "cell_type": "markdown",
   "id": "33ee032d",
   "metadata": {},
   "source": [
    "Мы решили проанализировать тональность текста постов, чтобы посмотреть, будет ли количество лайков зависеть от позитивной, негативной или нейтральной тональности. Для этого мы решили воспользоваться библиотекой TextBlob, который определяет тональность текста. Признаку тональность мы присваивали 4 значения: \"Положительная\", \"отрицательная\", \"нейтральная\" а также \"некорректный тип\", если при обработке ячейки возникали проблемы с ее форматом. \n",
    "\n",
    "После этого у нас из 9809 значений получилось 10 значений положительной тональности, 3 отрицательной, 9772 нейтральной и 24 некорректного типа. Это значит, что тональность определяется плохо. \n",
    "\n",
    "Поэтому мы решили взять не лемматизированные тексты постов, а изначальные и посмотреть, возможно, показатели улучшаться. Действительно, так и получилось, но эти изменения были слишком незначительными и нам по-прежнему надо было улучшать качество определения тональности постов. \n",
    "\n",
    "Мы предположили, что библиотека TextBlob лучше будет работать на данных на английском, а не русском языке. Для этого мы с помощью Excel перевели наши данные с русского на английский язык.\n",
    "\n",
    "Изначально мы попытались перевести текст в Питоне через встроенные библиотеки-переводчики (например, googletranslator). Однако это потребовало огромного количества времени (несколько часов) из-за почти 10 000 обращений к переводчику. Поэтому было принято решение пойти другим путем, а именно перевести тексты в Excel. Так как в оригинальном приложении отсутствовала функция перевода, пришлось искать дополнительное ПО. Решением оказалась надстройка !SEMTools, которая тоже обращалась к гугл переводчику, но быстрее, чем библиотека в Python (30-40 минут против нескольких часов). С помощью найденного инструмента мы сначала перевели данные в excel, там перевели текст через формулу, а потом обратно конвертнули файл в csv-файл, с которым и работали далее.\n",
    "\n",
    "После этого мы снова попытались определить тональность поста уже на данных на английском языке, и наши показатели заметно улучшились. Теперь постов положительной тональности стало 3730, отрицательной 2036 и нейтральной 4019. Количество постов некорректного типа по-прежнему не поменялось. \n",
    "\n",
    "Далее мы решили посмотреть, сколько в среднем лайков набирают посты с каждой тональностью. Получилось, что больше всего лайков набирают посты с нейтральной тональностью, а меньше всего с отрицательной, однако статистически эти различия незначимы."
   ]
  },
  {
   "cell_type": "code",
   "execution_count": 14,
   "id": "9cb6a747",
   "metadata": {},
   "outputs": [],
   "source": [
    "# Определение функции для определения тональности текста\n",
    "def get_sentiment(text):\n",
    "    if isinstance(text, str):  # Проверка на тип значения\n",
    "        blob = TextBlob(text)\n",
    "        sentiment = blob.sentiment.polarity\n",
    "        if sentiment > 0:\n",
    "            return 'Положительная'\n",
    "        elif sentiment < 0:\n",
    "            return 'Отрицательная'\n",
    "        else:\n",
    "            return 'Нейтральная'\n",
    "    else:\n",
    "        return 'Некорректный тип'\n"
   ]
  },
  {
   "cell_type": "code",
   "execution_count": 27,
   "id": "8a6546ef",
   "metadata": {},
   "outputs": [
    {
     "data": {
      "text/plain": [
       "Нейтральная         9772\n",
       "Некорректный тип      24\n",
       "Положительная         10\n",
       "Отрицательная          3\n",
       "Name: тональность, dtype: int64"
      ]
     },
     "execution_count": 27,
     "metadata": {},
     "output_type": "execute_result"
    }
   ],
   "source": [
    "data['тональность'].value_counts()"
   ]
  },
  {
   "cell_type": "code",
   "execution_count": 38,
   "id": "672811fe",
   "metadata": {},
   "outputs": [],
   "source": [
    "data_0 = pd.read_csv('data.csv').drop('Unnamed: 0', axis = 1)"
   ]
  },
  {
   "cell_type": "code",
   "execution_count": 39,
   "id": "e3515c18",
   "metadata": {},
   "outputs": [
    {
     "data": {
      "text/html": [
       "<div>\n",
       "<style scoped>\n",
       "    .dataframe tbody tr th:only-of-type {\n",
       "        vertical-align: middle;\n",
       "    }\n",
       "\n",
       "    .dataframe tbody tr th {\n",
       "        vertical-align: top;\n",
       "    }\n",
       "\n",
       "    .dataframe thead th {\n",
       "        text-align: right;\n",
       "    }\n",
       "</style>\n",
       "<table border=\"1\" class=\"dataframe\">\n",
       "  <thead>\n",
       "    <tr style=\"text-align: right;\">\n",
       "      <th></th>\n",
       "      <th>author</th>\n",
       "      <th>date</th>\n",
       "      <th>text</th>\n",
       "      <th>n_likes</th>\n",
       "      <th>n_reposts</th>\n",
       "      <th>with_photo</th>\n",
       "      <th>is_repost?</th>\n",
       "      <th>тональность</th>\n",
       "    </tr>\n",
       "  </thead>\n",
       "  <tbody>\n",
       "    <tr>\n",
       "      <th>0</th>\n",
       "      <td>dying</td>\n",
       "      <td>17 авг 2015</td>\n",
       "      <td>хочу видеть тебя каждый день</td>\n",
       "      <td>14351</td>\n",
       "      <td>325</td>\n",
       "      <td>False</td>\n",
       "      <td>False</td>\n",
       "      <td>Нейтральная</td>\n",
       "    </tr>\n",
       "    <tr>\n",
       "      <th>1</th>\n",
       "      <td>dying</td>\n",
       "      <td>17 авг 2015</td>\n",
       "      <td>Живёшь живёшь, и тут в твоей жизни появляется ...</td>\n",
       "      <td>7098</td>\n",
       "      <td>144</td>\n",
       "      <td>False</td>\n",
       "      <td>False</td>\n",
       "      <td>Нейтральная</td>\n",
       "    </tr>\n",
       "    <tr>\n",
       "      <th>2</th>\n",
       "      <td>dying</td>\n",
       "      <td>17 авг 2015</td>\n",
       "      <td>- По кому скучаешь?\\n- По Наташе</td>\n",
       "      <td>6439</td>\n",
       "      <td>121</td>\n",
       "      <td>False</td>\n",
       "      <td>False</td>\n",
       "      <td>Нейтральная</td>\n",
       "    </tr>\n",
       "    <tr>\n",
       "      <th>3</th>\n",
       "      <td>dying</td>\n",
       "      <td>17 авг 2015</td>\n",
       "      <td>и дай Бог каждому быть с тем, с кем сердце не ...</td>\n",
       "      <td>8469</td>\n",
       "      <td>221</td>\n",
       "      <td>False</td>\n",
       "      <td>False</td>\n",
       "      <td>Нейтральная</td>\n",
       "    </tr>\n",
       "    <tr>\n",
       "      <th>4</th>\n",
       "      <td>dying</td>\n",
       "      <td>17 авг 2015</td>\n",
       "      <td>Моя Арина милашка\\nМоя Арина бандитка\\nМоя Ари...</td>\n",
       "      <td>3704</td>\n",
       "      <td>71</td>\n",
       "      <td>False</td>\n",
       "      <td>False</td>\n",
       "      <td>Нейтральная</td>\n",
       "    </tr>\n",
       "    <tr>\n",
       "      <th>...</th>\n",
       "      <td>...</td>\n",
       "      <td>...</td>\n",
       "      <td>...</td>\n",
       "      <td>...</td>\n",
       "      <td>...</td>\n",
       "      <td>...</td>\n",
       "      <td>...</td>\n",
       "      <td>...</td>\n",
       "    </tr>\n",
       "    <tr>\n",
       "      <th>9984</th>\n",
       "      <td>dying</td>\n",
       "      <td>30 окт 2014</td>\n",
       "      <td>- Как тебя Земля носит?\\n- Ну, гравитация и ты...</td>\n",
       "      <td>263</td>\n",
       "      <td>7</td>\n",
       "      <td>False</td>\n",
       "      <td>False</td>\n",
       "      <td>Нейтральная</td>\n",
       "    </tr>\n",
       "    <tr>\n",
       "      <th>9985</th>\n",
       "      <td>dying</td>\n",
       "      <td>30 окт 2014</td>\n",
       "      <td>сохрани нежность</td>\n",
       "      <td>67</td>\n",
       "      <td>0</td>\n",
       "      <td>False</td>\n",
       "      <td>False</td>\n",
       "      <td>Нейтральная</td>\n",
       "    </tr>\n",
       "    <tr>\n",
       "      <th>9986</th>\n",
       "      <td>dying</td>\n",
       "      <td>30 окт 2014</td>\n",
       "      <td>Если у тебя на лице прыщики, не комплексуй. По...</td>\n",
       "      <td>133</td>\n",
       "      <td>4</td>\n",
       "      <td>False</td>\n",
       "      <td>False</td>\n",
       "      <td>Нейтральная</td>\n",
       "    </tr>\n",
       "    <tr>\n",
       "      <th>9987</th>\n",
       "      <td>dying</td>\n",
       "      <td>30 окт 2014</td>\n",
       "      <td>- Вы такая милая пара! Когда я вас вижу, вы вс...</td>\n",
       "      <td>636</td>\n",
       "      <td>12</td>\n",
       "      <td>False</td>\n",
       "      <td>False</td>\n",
       "      <td>Нейтральная</td>\n",
       "    </tr>\n",
       "    <tr>\n",
       "      <th>9988</th>\n",
       "      <td>dying</td>\n",
       "      <td>30 окт 2014</td>\n",
       "      <td>я не кукла и не игрушка , я девочка, которая м...</td>\n",
       "      <td>189</td>\n",
       "      <td>2</td>\n",
       "      <td>False</td>\n",
       "      <td>False</td>\n",
       "      <td>Нейтральная</td>\n",
       "    </tr>\n",
       "  </tbody>\n",
       "</table>\n",
       "<p>9989 rows × 8 columns</p>\n",
       "</div>"
      ],
      "text/plain": [
       "     author         date                                               text  \\\n",
       "0     dying  17 авг 2015                       хочу видеть тебя каждый день   \n",
       "1     dying  17 авг 2015  Живёшь живёшь, и тут в твоей жизни появляется ...   \n",
       "2     dying  17 авг 2015                   - По кому скучаешь?\\n- По Наташе   \n",
       "3     dying  17 авг 2015  и дай Бог каждому быть с тем, с кем сердце не ...   \n",
       "4     dying  17 авг 2015  Моя Арина милашка\\nМоя Арина бандитка\\nМоя Ари...   \n",
       "...     ...          ...                                                ...   \n",
       "9984  dying  30 окт 2014  - Как тебя Земля носит?\\n- Ну, гравитация и ты...   \n",
       "9985  dying  30 окт 2014                                   сохрани нежность   \n",
       "9986  dying  30 окт 2014  Если у тебя на лице прыщики, не комплексуй. По...   \n",
       "9987  dying  30 окт 2014  - Вы такая милая пара! Когда я вас вижу, вы вс...   \n",
       "9988  dying  30 окт 2014  я не кукла и не игрушка , я девочка, которая м...   \n",
       "\n",
       "      n_likes  n_reposts  with_photo  is_repost?  тональность  \n",
       "0       14351        325       False       False  Нейтральная  \n",
       "1        7098        144       False       False  Нейтральная  \n",
       "2        6439        121       False       False  Нейтральная  \n",
       "3        8469        221       False       False  Нейтральная  \n",
       "4        3704         71       False       False  Нейтральная  \n",
       "...       ...        ...         ...         ...          ...  \n",
       "9984      263          7       False       False  Нейтральная  \n",
       "9985       67          0       False       False  Нейтральная  \n",
       "9986      133          4       False       False  Нейтральная  \n",
       "9987      636         12       False       False  Нейтральная  \n",
       "9988      189          2       False       False  Нейтральная  \n",
       "\n",
       "[9989 rows x 8 columns]"
      ]
     },
     "execution_count": 39,
     "metadata": {},
     "output_type": "execute_result"
    }
   ],
   "source": [
    "data_0['тональность'] = data_0['text'].apply(get_sentiment)\n",
    "data_0"
   ]
  },
  {
   "cell_type": "code",
   "execution_count": 40,
   "id": "40e30946",
   "metadata": {},
   "outputs": [
    {
     "data": {
      "text/plain": [
       "Нейтральная         9692\n",
       "Некорректный тип     180\n",
       "Положительная        111\n",
       "Отрицательная          6\n",
       "Name: тональность, dtype: int64"
      ]
     },
     "execution_count": 40,
     "metadata": {},
     "output_type": "execute_result"
    }
   ],
   "source": [
    "data_0['тональность'].value_counts()"
   ]
  },
  {
   "cell_type": "code",
   "execution_count": 41,
   "id": "d33bf50c",
   "metadata": {},
   "outputs": [
    {
     "data": {
      "text/html": [
       "<div>\n",
       "<style scoped>\n",
       "    .dataframe tbody tr th:only-of-type {\n",
       "        vertical-align: middle;\n",
       "    }\n",
       "\n",
       "    .dataframe tbody tr th {\n",
       "        vertical-align: top;\n",
       "    }\n",
       "\n",
       "    .dataframe thead th {\n",
       "        text-align: right;\n",
       "    }\n",
       "</style>\n",
       "<table border=\"1\" class=\"dataframe\">\n",
       "  <thead>\n",
       "    <tr style=\"text-align: right;\">\n",
       "      <th></th>\n",
       "      <th>author</th>\n",
       "      <th>date</th>\n",
       "      <th>n_likes</th>\n",
       "      <th>n_reposts</th>\n",
       "      <th>with_photo</th>\n",
       "      <th>is_repost?</th>\n",
       "      <th>text</th>\n",
       "      <th>translation</th>\n",
       "    </tr>\n",
       "  </thead>\n",
       "  <tbody>\n",
       "    <tr>\n",
       "      <th>0</th>\n",
       "      <td>dying</td>\n",
       "      <td>2015-08-17</td>\n",
       "      <td>14351</td>\n",
       "      <td>325</td>\n",
       "      <td>False</td>\n",
       "      <td>False</td>\n",
       "      <td>хотеть видеть каждый день</td>\n",
       "      <td>want to see every day</td>\n",
       "    </tr>\n",
       "    <tr>\n",
       "      <th>1</th>\n",
       "      <td>dying</td>\n",
       "      <td>2015-08-17</td>\n",
       "      <td>7098</td>\n",
       "      <td>144</td>\n",
       "      <td>False</td>\n",
       "      <td>False</td>\n",
       "      <td>жить жить твой жизнь появляться полина</td>\n",
       "      <td>live live your life appear polina</td>\n",
       "    </tr>\n",
       "    <tr>\n",
       "      <th>2</th>\n",
       "      <td>dying</td>\n",
       "      <td>2015-08-17</td>\n",
       "      <td>6439</td>\n",
       "      <td>121</td>\n",
       "      <td>False</td>\n",
       "      <td>False</td>\n",
       "      <td>скучать наташа</td>\n",
       "      <td>miss natasha</td>\n",
       "    </tr>\n",
       "  </tbody>\n",
       "</table>\n",
       "</div>"
      ],
      "text/plain": [
       "  author        date  n_likes  n_reposts  with_photo  is_repost?  \\\n",
       "0  dying  2015-08-17    14351        325       False       False   \n",
       "1  dying  2015-08-17     7098        144       False       False   \n",
       "2  dying  2015-08-17     6439        121       False       False   \n",
       "\n",
       "                                     text                        translation  \n",
       "0               хотеть видеть каждый день              want to see every day  \n",
       "1  жить жить твой жизнь появляться полина  live live your life appear polina  \n",
       "2                          скучать наташа                       miss natasha  "
      ]
     },
     "execution_count": 41,
     "metadata": {},
     "output_type": "execute_result"
    }
   ],
   "source": [
    "translated = pd.read_csv('translated posts.csv').drop('Unnamed: 0', axis = 1)\n",
    "translated.head(3)"
   ]
  },
  {
   "cell_type": "code",
   "execution_count": 42,
   "id": "36ae3a7f",
   "metadata": {},
   "outputs": [
    {
     "data": {
      "text/html": [
       "<div>\n",
       "<style scoped>\n",
       "    .dataframe tbody tr th:only-of-type {\n",
       "        vertical-align: middle;\n",
       "    }\n",
       "\n",
       "    .dataframe tbody tr th {\n",
       "        vertical-align: top;\n",
       "    }\n",
       "\n",
       "    .dataframe thead th {\n",
       "        text-align: right;\n",
       "    }\n",
       "</style>\n",
       "<table border=\"1\" class=\"dataframe\">\n",
       "  <thead>\n",
       "    <tr style=\"text-align: right;\">\n",
       "      <th></th>\n",
       "      <th>author</th>\n",
       "      <th>date</th>\n",
       "      <th>n_likes</th>\n",
       "      <th>n_reposts</th>\n",
       "      <th>with_photo</th>\n",
       "      <th>is_repost?</th>\n",
       "      <th>text</th>\n",
       "      <th>translation</th>\n",
       "      <th>тональность</th>\n",
       "    </tr>\n",
       "  </thead>\n",
       "  <tbody>\n",
       "    <tr>\n",
       "      <th>0</th>\n",
       "      <td>dying</td>\n",
       "      <td>2015-08-17</td>\n",
       "      <td>14351</td>\n",
       "      <td>325</td>\n",
       "      <td>False</td>\n",
       "      <td>False</td>\n",
       "      <td>хотеть видеть каждый день</td>\n",
       "      <td>want to see every day</td>\n",
       "      <td>Нейтральная</td>\n",
       "    </tr>\n",
       "    <tr>\n",
       "      <th>1</th>\n",
       "      <td>dying</td>\n",
       "      <td>2015-08-17</td>\n",
       "      <td>7098</td>\n",
       "      <td>144</td>\n",
       "      <td>False</td>\n",
       "      <td>False</td>\n",
       "      <td>жить жить твой жизнь появляться полина</td>\n",
       "      <td>live live your life appear polina</td>\n",
       "      <td>Положительная</td>\n",
       "    </tr>\n",
       "    <tr>\n",
       "      <th>2</th>\n",
       "      <td>dying</td>\n",
       "      <td>2015-08-17</td>\n",
       "      <td>6439</td>\n",
       "      <td>121</td>\n",
       "      <td>False</td>\n",
       "      <td>False</td>\n",
       "      <td>скучать наташа</td>\n",
       "      <td>miss natasha</td>\n",
       "      <td>Нейтральная</td>\n",
       "    </tr>\n",
       "  </tbody>\n",
       "</table>\n",
       "</div>"
      ],
      "text/plain": [
       "  author        date  n_likes  n_reposts  with_photo  is_repost?  \\\n",
       "0  dying  2015-08-17    14351        325       False       False   \n",
       "1  dying  2015-08-17     7098        144       False       False   \n",
       "2  dying  2015-08-17     6439        121       False       False   \n",
       "\n",
       "                                     text                        translation  \\\n",
       "0               хотеть видеть каждый день              want to see every day   \n",
       "1  жить жить твой жизнь появляться полина  live live your life appear polina   \n",
       "2                          скучать наташа                       miss natasha   \n",
       "\n",
       "     тональность  \n",
       "0    Нейтральная  \n",
       "1  Положительная  \n",
       "2    Нейтральная  "
      ]
     },
     "execution_count": 42,
     "metadata": {},
     "output_type": "execute_result"
    }
   ],
   "source": [
    "translated['тональность'] = translated['translation'].apply(get_sentiment)\n",
    "translated.head(3)"
   ]
  },
  {
   "cell_type": "code",
   "execution_count": 43,
   "id": "d1830a1f",
   "metadata": {},
   "outputs": [
    {
     "data": {
      "text/plain": [
       "Нейтральная         4019\n",
       "Положительная       3730\n",
       "Отрицательная       2036\n",
       "Некорректный тип      24\n",
       "Name: тональность, dtype: int64"
      ]
     },
     "execution_count": 43,
     "metadata": {},
     "output_type": "execute_result"
    }
   ],
   "source": [
    "translated['тональность'].value_counts()"
   ]
  },
  {
   "cell_type": "code",
   "execution_count": 44,
   "id": "5ea79842",
   "metadata": {},
   "outputs": [],
   "source": [
    "# Присвоение числовых значений типам тональности\n",
    "mapping = {'Положительная': 1, 'Отрицательная': -1, 'Нейтральная': 0}\n",
    "translated['tonality_numbers'] = translated['тональность'].map(mapping)"
   ]
  },
  {
   "cell_type": "markdown",
   "id": "b769c95e",
   "metadata": {},
   "source": [
    "Посмотрим на средние значение по лайкам в зависимости от тональности текста."
   ]
  },
  {
   "cell_type": "code",
   "execution_count": 45,
   "id": "ef9ebef6",
   "metadata": {},
   "outputs": [
    {
     "data": {
      "text/plain": [
       "1106.163727189316"
      ]
     },
     "execution_count": 45,
     "metadata": {},
     "output_type": "execute_result"
    }
   ],
   "source": [
    "translated['n_likes'].mean()"
   ]
  },
  {
   "cell_type": "code",
   "execution_count": 46,
   "id": "0c4f7e31",
   "metadata": {},
   "outputs": [
    {
     "data": {
      "text/plain": [
       "1106.3195710455764"
      ]
     },
     "execution_count": 46,
     "metadata": {},
     "output_type": "execute_result"
    }
   ],
   "source": [
    "translated[translated.tonality_numbers == 1]['n_likes'].mean()"
   ]
  },
  {
   "cell_type": "code",
   "execution_count": 47,
   "id": "611cd3da",
   "metadata": {},
   "outputs": [
    {
     "data": {
      "text/plain": [
       "1112.3471012689724"
      ]
     },
     "execution_count": 47,
     "metadata": {},
     "output_type": "execute_result"
    }
   ],
   "source": [
    "translated[translated.tonality_numbers == 0]['n_likes'].mean()"
   ]
  },
  {
   "cell_type": "code",
   "execution_count": 48,
   "id": "7f8a740a",
   "metadata": {},
   "outputs": [
    {
     "data": {
      "text/plain": [
       "1095.6335952848724"
      ]
     },
     "execution_count": 48,
     "metadata": {},
     "output_type": "execute_result"
    }
   ],
   "source": [
    "translated[translated.tonality_numbers == -1]['n_likes'].mean()"
   ]
  },
  {
   "cell_type": "markdown",
   "id": "f0993d9a",
   "metadata": {},
   "source": [
    "Кажется, что нейтральные посты набирают больше всего лайков. Проверим это, используя тест Уэлча (опять же, мы не знаем равны ли дисперсии и предполагаем нормальность выборок)"
   ]
  },
  {
   "cell_type": "markdown",
   "id": "94744f25",
   "metadata": {},
   "source": [
    "$$\n",
    "H_0: \\mu_{neutral} = \\mu_{not\\_neutral}\n",
    "$$\n",
    "$$\n",
    "H_1: \\mu_{neutral} > \\mu_{not\\_neutral}\n",
    "$$"
   ]
  },
  {
   "cell_type": "code",
   "execution_count": 49,
   "id": "39292edf",
   "metadata": {},
   "outputs": [],
   "source": [
    "neutral = translated[translated.tonality_numbers == 0].n_likes\n",
    "not_neutral = translated[translated.tonality_numbers != 0].n_likes"
   ]
  },
  {
   "cell_type": "code",
   "execution_count": 50,
   "id": "902c45a9",
   "metadata": {},
   "outputs": [
    {
     "data": {
      "text/plain": [
       "Ttest_indResult(statistic=0.6734077371478718, pvalue=0.25035388585559026)"
      ]
     },
     "execution_count": 50,
     "metadata": {},
     "output_type": "execute_result"
    }
   ],
   "source": [
    "stats.ttest_ind(neutral, not_neutral, equal_var= False, alternative= 'greater')"
   ]
  },
  {
   "cell_type": "markdown",
   "id": "e04a92fe",
   "metadata": {},
   "source": [
    "Получили p-value примерно равное 0.25. Получается нет оснований отвергать нулевую гипотезу. Получается, нейтральные посты в среднем набирают столько же лайков, сколько и все остальные."
   ]
  },
  {
   "cell_type": "markdown",
   "id": "c12ba1ed",
   "metadata": {},
   "source": [
    "Дополнительно, мы решили проверить, набирают ли негативные посты меньше лайков, чем все остальные. "
   ]
  },
  {
   "cell_type": "markdown",
   "id": "89eac41d",
   "metadata": {},
   "source": [
    "$$\n",
    "H_0: \\mu_{negative} = \\mu_{not\\_negative}\n",
    "$$\n",
    "$$\n",
    "H_1: \\mu_{negative} < \\mu_{not\\_negative}\n",
    "$$"
   ]
  },
  {
   "cell_type": "code",
   "execution_count": 53,
   "id": "5e8f8dd0",
   "metadata": {},
   "outputs": [],
   "source": [
    "negative = translated[translated.tonality_numbers == -1].n_likes\n",
    "not_negative = translated[translated.tonality_numbers != -1].n_likes"
   ]
  },
  {
   "cell_type": "code",
   "execution_count": 54,
   "id": "9db97223",
   "metadata": {},
   "outputs": [
    {
     "data": {
      "text/plain": [
       "Ttest_indResult(statistic=-0.74141439087811, pvalue=0.22924751848380254)"
      ]
     },
     "execution_count": 54,
     "metadata": {},
     "output_type": "execute_result"
    }
   ],
   "source": [
    "stats.ttest_ind(negative, not_negative, equal_var=False, alternative='less')"
   ]
  },
  {
   "cell_type": "markdown",
   "id": "59ae99e0",
   "metadata": {},
   "source": [
    "Получили p-значение равное 0.23. Нет оснований отвергать нулевую гипотезу о том, что негативные посты в среднем набирают столько же лайков, сколько и все остальные"
   ]
  }
 ],
 "metadata": {
  "kernelspec": {
   "display_name": "Python 3 (ipykernel)",
   "language": "python",
   "name": "python3"
  },
  "language_info": {
   "codemirror_mode": {
    "name": "ipython",
    "version": 3
   },
   "file_extension": ".py",
   "mimetype": "text/x-python",
   "name": "python",
   "nbconvert_exporter": "python",
   "pygments_lexer": "ipython3",
   "version": "3.9.7"
  }
 },
 "nbformat": 4,
 "nbformat_minor": 5
}
