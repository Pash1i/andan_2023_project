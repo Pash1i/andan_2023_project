{
 "cells": [
  {
   "cell_type": "code",
   "execution_count": 1,
   "id": "cfb0a8e9",
   "metadata": {},
   "outputs": [],
   "source": [
    "link = 'https://vk.com/ldyingl'"
   ]
  },
  {
   "cell_type": "code",
   "execution_count": 2,
   "id": "f70f301f",
   "metadata": {},
   "outputs": [],
   "source": [
    "from selenium import webdriver\n",
    "from selenium.webdriver.common.keys import Keys\n",
    "from selenium.webdriver.common.by import By\n",
    "from selenium.webdriver import ActionChains\n",
    "\n",
    "import numpy as np\n",
    "from time import sleep\n",
    "import pandas as pd\n",
    "import os"
   ]
  },
  {
   "cell_type": "code",
   "execution_count": 117,
   "id": "fbefb361",
   "metadata": {},
   "outputs": [],
   "source": [
    "browser = webdriver.Chrome()\n",
    "action_chains = ActionChains(browser)"
   ]
  },
  {
   "cell_type": "code",
   "execution_count": 118,
   "id": "f1a53dd8",
   "metadata": {},
   "outputs": [],
   "source": [
    "browser.get(link)"
   ]
  },
  {
   "cell_type": "code",
   "execution_count": 94,
   "id": "c58d9b97",
   "metadata": {},
   "outputs": [],
   "source": [
    "#df = pd.DataFrame(columns = ['author', 'date', 'text', 'n_likes', 'n_reposts', 'with_photo', 'is_repost?'])"
   ]
  },
  {
   "cell_type": "code",
   "execution_count": 84,
   "id": "3c899b8e",
   "metadata": {},
   "outputs": [
    {
     "data": {
      "text/html": [
       "<div>\n",
       "<style scoped>\n",
       "    .dataframe tbody tr th:only-of-type {\n",
       "        vertical-align: middle;\n",
       "    }\n",
       "\n",
       "    .dataframe tbody tr th {\n",
       "        vertical-align: top;\n",
       "    }\n",
       "\n",
       "    .dataframe thead th {\n",
       "        text-align: right;\n",
       "    }\n",
       "</style>\n",
       "<table border=\"1\" class=\"dataframe\">\n",
       "  <thead>\n",
       "    <tr style=\"text-align: right;\">\n",
       "      <th></th>\n",
       "      <th>author</th>\n",
       "      <th>date</th>\n",
       "      <th>text</th>\n",
       "      <th>n_likes</th>\n",
       "      <th>n_reposts</th>\n",
       "      <th>with_photo</th>\n",
       "      <th>is_repost?</th>\n",
       "    </tr>\n",
       "  </thead>\n",
       "  <tbody>\n",
       "  </tbody>\n",
       "</table>\n",
       "</div>"
      ],
      "text/plain": [
       "Empty DataFrame\n",
       "Columns: [author, date, text, n_likes, n_reposts, with_photo, is_repost?]\n",
       "Index: []"
      ]
     },
     "execution_count": 84,
     "metadata": {},
     "output_type": "execute_result"
    }
   ],
   "source": [
    "df"
   ]
  },
  {
   "cell_type": "code",
   "execution_count": 146,
   "id": "0e579955",
   "metadata": {
   },
   "outputs": [
    {
     "name": "stdout",
     "output_type": "stream",
     "text": [
     ]
    },
    {
     
    }
   ],
   "source": [
    "for i in range(2, 10000):\n",
    "    sleep(np.random.uniform(0.1, 0.5))\n",
    "    \n",
    "    post_path = f'/html/body/div[11]/div/div/div[2]/div[2]/div[2]/div/div[1]/div[2]/div[2]/div/div[3]/div[2]/div[{i}]'\n",
    "    author_path = f'/html/body/div[11]/div/div/div[2]/div[2]/div[2]/div/div[1]/div[2]/div[2]/div/div[3]/div[2]/div[{i}]/div/div[1]/div[2]/div[1]/div/h5/a/span'\n",
    "    text_path = f'/html/body/div[11]/div/div/div[2]/div[2]/div[2]/div/div[1]/div[2]/div[2]/div/div[3]/div[2]/div[{i}]/div/div[2]/div/div[1]/div/div'\n",
    "    date_path = f'/html/body/div[11]/div/div/div[2]/div[2]/div[2]/div/div[1]/div[2]/div[2]/div/div[3]/div[2]/div[{i}]/div/div[1]/div[2]/div[2]/a/time'\n",
    "    likes_path = f'/html/body/div[11]/div/div/div[2]/div[2]/div[2]/div/div[1]/div[2]/div[2]/div/div[3]/div[2]/div[{i}]/div/div[2]/div/div[2]/div/div/div[1]/div[1]/span[3]/div'\n",
    "    reposts_path = f'/html/body/div[11]/div/div/div[2]/div[2]/div[2]/div/div[1]/div[2]/div[2]/div/div[3]/div[2]/div[{i}]/div/div[2]/div/div[2]/div/div/div[2]/span[3]'\n",
    "    is_repost_path = f'/html/body/div[11]/div/div/div[2]/div[2]/div[2]/div/div[1]/div[2]/div[2]/div/div[3]/div[2]/div[{i}]/div/div[2]/div/div[1]/div[2]'\n",
    "    with_photo_path = f'/html/body/div[11]/div/div/div[2]/div[2]/div[2]/div/div[1]/div[2]/div[2]/div/div[3]/div[2]/div[{i}]/div/div[2]/div/div[1]/div/div/div/div/div/img'\n",
    "    \n",
    "    author = browser.find_element(By.XPATH, author_path).text\n",
    "    date = browser.find_element(By.XPATH, date_path).text\n",
    "    try:\n",
    "        text = browser.find_element(By.XPATH, text_path).text #на случай если нет текста\n",
    "    except:\n",
    "        continue\n",
    "    n_likes = ''.join(browser.find_element(By.XPATH, likes_path).text.split())\n",
    "    n_reposts = ''.join(browser.find_element(By.XPATH, reposts_path).text.split())\n",
    "    if n_likes == '': # наслучай если 0 лайков\n",
    "        n_likes = 0\n",
    "    else:\n",
    "        n_likes = int(n_likes)\n",
    "        \n",
    "    if n_reposts == '': #на случай, если 0 репостов\n",
    "        n_reposts = 0\n",
    "    else:\n",
    "        n_reposts = int(n_reposts)\n",
    "    try: # проверяет налличие картинки в посте\n",
    "        browser.find_element(By.XPATH, with_photo_path).screenshot(f'screenshots\\photo{i - 2}.png')\n",
    "        with_photo = True\n",
    "    except:\n",
    "        with_photo = False\n",
    "    try: # проверяет, является ли пост репостом другого поста\n",
    "        browser.find_element(By.XPATH, is_repost_path)\n",
    "        is_repost = True\n",
    "    except:\n",
    "        is_repost = False\n",
    "    \n",
    "    df.loc[i - 2] = [author, date, text, n_likes, n_reposts, with_photo, is_repost]\n",
    "    df.to_csv('vk_data\\data.csv')\n",
    "    \n",
    "    action_chains.scroll_by_amount(0,500).perform()\n",
    "    \n",
    "    print(i - 2) # это просто чтобы видно было, как продвигается сбор данных"
   ]
  }
 ],
 "metadata": {
  "kernelspec": {
   "display_name": "Python 3 (ipykernel)",
   "language": "python",
   "name": "python3"
  },
  "language_info": {
   "codemirror_mode": {
    "name": "ipython",
    "version": 3
   },
   "file_extension": ".py",
   "mimetype": "text/x-python",
   "name": "python",
   "nbconvert_exporter": "python",
   "pygments_lexer": "ipython3",
   "version": "3.9.7"
  }
 },
 "nbformat": 4,
 "nbformat_minor": 5
}
