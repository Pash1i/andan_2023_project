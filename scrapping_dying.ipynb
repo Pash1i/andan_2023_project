{
 "cells": [
  {
   "cell_type": "code",
   "execution_count": 1,
   "id": "cfb0a8e9",
   "metadata": {},
   "outputs": [],
   "source": [
    "link = 'https://vk.com/ldyingl'"
   ]
  },
  {
   "cell_type": "code",
   "execution_count": 2,
   "id": "f70f301f",
   "metadata": {},
   "outputs": [],
   "source": [
    "from selenium import webdriver\n",
    "from selenium.webdriver.common.keys import Keys\n",
    "from selenium.webdriver.common.by import By\n",
    "from selenium.webdriver import ActionChains\n",
    "\n",
    "import numpy as np\n",
    "from time import sleep\n",
    "import pandas as pd\n",
    "import os"
   ]
  },
  {
   "cell_type": "code",
   "execution_count": 117,
   "id": "fbefb361",
   "metadata": {},
   "outputs": [],
   "source": [
    "browser = webdriver.Chrome()\n",
    "action_chains = ActionChains(browser)"
   ]
  },
  {
   "cell_type": "code",
   "execution_count": 118,
   "id": "f1a53dd8",
   "metadata": {},
   "outputs": [],
   "source": [
    "browser.get(link)"
   ]
  },
  {
   "cell_type": "code",
   "execution_count": 94,
   "id": "c58d9b97",
   "metadata": {},
   "outputs": [],
   "source": [
    "#df = pd.DataFrame(columns = ['author', 'date', 'text', 'n_likes', 'n_reposts', 'with_photo', 'is_repost?'])"
   ]
  },
  {
   "cell_type": "code",
   "execution_count": 84,
   "id": "3c899b8e",
   "metadata": {},
   "outputs": [
    {
     "data": {
      "text/html": [
       "<div>\n",
       "<style scoped>\n",
       "    .dataframe tbody tr th:only-of-type {\n",
       "        vertical-align: middle;\n",
       "    }\n",
       "\n",
       "    .dataframe tbody tr th {\n",
       "        vertical-align: top;\n",
       "    }\n",
       "\n",
       "    .dataframe thead th {\n",
       "        text-align: right;\n",
       "    }\n",
       "</style>\n",
       "<table border=\"1\" class=\"dataframe\">\n",
       "  <thead>\n",
       "    <tr style=\"text-align: right;\">\n",
       "      <th></th>\n",
       "      <th>author</th>\n",
       "      <th>date</th>\n",
       "      <th>text</th>\n",
       "      <th>n_likes</th>\n",
       "      <th>n_reposts</th>\n",
       "      <th>with_photo</th>\n",
       "      <th>is_repost?</th>\n",
       "    </tr>\n",
       "  </thead>\n",
       "  <tbody>\n",
       "  </tbody>\n",
       "</table>\n",
       "</div>"
      ],
      "text/plain": [
       "Empty DataFrame\n",
       "Columns: [author, date, text, n_likes, n_reposts, with_photo, is_repost?]\n",
       "Index: []"
      ]
     },
     "execution_count": 84,
     "metadata": {},
     "output_type": "execute_result"
    }
   ],
   "source": [
    "df"
   ]
  },
  {
   "cell_type": "code",
   "execution_count": 146,
   "id": "0e579955",
   "metadata": {
    "collapsed": true
   },
   "outputs": [
    {
     "name": "stdout",
     "output_type": "stream",
     "text": [
      ]
    }
