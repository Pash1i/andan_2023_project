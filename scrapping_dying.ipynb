{
 "cells": [
  {
   "cell_type": "code",
   "execution_count": 1,
   "id": "cfb0a8e9",
   "metadata": {},
   "outputs": [],
   "source": [
    "link = 'https://vk.com/ldyingl'"
   ]
  },
  {
   "cell_type": "code",
   "execution_count": 2,
   "id": "f70f301f",
   "metadata": {},
   "outputs": [],
   "source": [
    "from selenium import webdriver\n",
    "from selenium.webdriver.common.keys import Keys\n",
    "from selenium.webdriver.common.by import By\n",
    "from selenium.webdriver import ActionChains\n",
    "\n",
    "import numpy as np\n",
    "from time import sleep\n",
    "import pandas as pd\n",
    "import os"
   ]
  },
  {
   "cell_type": "code",
   "execution_count": 117,
   "id": "fbefb361",
   "metadata": {},
   "outputs": [],
   "source": [
    "browser = webdriver.Chrome()\n",
    "action_chains = ActionChains(browser)"
   ]
  },
  {
   "cell_type": "code",
   "execution_count": 118,
   "id": "f1a53dd8",
   "metadata": {},
   "outputs": [],
   "source": [
    "browser.get(link)"
   ]
  },
  {
   "cell_type": "code",
   "execution_count": 94,
   "id": "c58d9b97",
   "metadata": {},
   "outputs": [],
   "source": [
    "#df = pd.DataFrame(columns = ['author', 'date', 'text', 'n_likes', 'n_reposts', 'with_photo', 'is_repost?'])"
   ]
  },
  {
   "cell_type": "code",
   "execution_count": 84,
   "id": "3c899b8e",
   "metadata": {},
   "outputs": [
    {
     "data": {
      "text/html": [
       "<div>\n",
       "<style scoped>\n",
       "    .dataframe tbody tr th:only-of-type {\n",
       "        vertical-align: middle;\n",
       "    }\n",
       "\n",
       "    .dataframe tbody tr th {\n",
       "        vertical-align: top;\n",
       "    }\n",
       "\n",
       "    .dataframe thead th {\n",
       "        text-align: right;\n",
       "    }\n",
       "</style>\n",
       "<table border=\"1\" class=\"dataframe\">\n",
       "  <thead>\n",
       "    <tr style=\"text-align: right;\">\n",
       "      <th></th>\n",
       "      <th>author</th>\n",
       "      <th>date</th>\n",
       "      <th>text</th>\n",
       "      <th>n_likes</th>\n",
       "      <th>n_reposts</th>\n",
       "      <th>with_photo</th>\n",
       "      <th>is_repost?</th>\n",
       "    </tr>\n",
       "  </thead>\n",
       "  <tbody>\n",
       "  </tbody>\n",
       "</table>\n",
       "</div>"
      ],
      "text/plain": [
       "Empty DataFrame\n",
       "Columns: [author, date, text, n_likes, n_reposts, with_photo, is_repost?]\n",
       "Index: []"
      ]
     },
     "execution_count": 84,
     "metadata": {},
     "output_type": "execute_result"
    }
   ],
   "source": [
    "df"
   ]
  },
  {
   "cell_type": "code",
   "execution_count": 146,
   "id": "0e579955",
   "metadata": {
    "collapsed": true
   },
   "outputs": [
    {
     "name": "stdout",
     "output_type": "stream",
     "text": [
      ]
    },
    {
     "ename": "NoSuchElementException",
     "evalue": "Message: no such element: Unable to locate element: {\"method\":\"xpath\",\"selector\":\"/html/body/div[11]/div/div/div[2]/div[2]/div[2]/div/div[1]/div[2]/div[2]/div/div[3]/div[2]/div[9994]/div/div[1]/div[2]/div[1]/div/h5/a/span\"}\n  (Session info: chrome=114.0.5735.110)\nStacktrace:\nBacktrace:\n\tGetHandleVerifier [0x005BA813+48355]\n\t(No symbol) [0x0054C4B1]\n\t(No symbol) [0x00455358]\n\t(No symbol) [0x004809A5]\n\t(No symbol) [0x00480B3B]\n\t(No symbol) [0x004AE232]\n\t(No symbol) [0x0049A784]\n\t(No symbol) [0x004AC922]\n\t(No symbol) [0x0049A536]\n\t(No symbol) [0x004782DC]\n\t(No symbol) [0x004793DD]\n\tGetHandleVerifier [0x0081AABD+2539405]\n\tGetHandleVerifier [0x0085A78F+2800735]\n\tGetHandleVerifier [0x0085456C+2775612]\n\tGetHandleVerifier [0x006451E0+616112]\n\t(No symbol) [0x00555F8C]\n\t(No symbol) [0x00552328]\n\t(No symbol) [0x0055240B]\n\t(No symbol) [0x00544FF7]\n\tBaseThreadInitThunk [0x76B100C9+25]\n\tRtlGetAppContainerNamedObjectPath [0x76EC7B4E+286]\n\tRtlGetAppContainerNamedObjectPath [0x76EC7B1E+238]\n",
     "output_type": "error",
     "traceback": [
      "\u001b[1;31m---------------------------------------------------------------------------\u001b[0m",
      "\u001b[1;31mNoSuchElementException\u001b[0m                    Traceback (most recent call last)",
      "\u001b[1;32m~\\AppData\\Local\\Temp/ipykernel_10000/649140298.py\u001b[0m in \u001b[0;36m<module>\u001b[1;34m\u001b[0m\n\u001b[0;32m     11\u001b[0m     \u001b[0mwith_photo_path\u001b[0m \u001b[1;33m=\u001b[0m \u001b[1;34mf'/html/body/div[11]/div/div/div[2]/div[2]/div[2]/div/div[1]/div[2]/div[2]/div/div[3]/div[2]/div[{i}]/div/div[2]/div/div[1]/div/div/div/div/div/img'\u001b[0m\u001b[1;33m\u001b[0m\u001b[1;33m\u001b[0m\u001b[0m\n\u001b[0;32m     12\u001b[0m \u001b[1;33m\u001b[0m\u001b[0m\n\u001b[1;32m---> 13\u001b[1;33m     \u001b[0mauthor\u001b[0m \u001b[1;33m=\u001b[0m \u001b[0mbrowser\u001b[0m\u001b[1;33m.\u001b[0m\u001b[0mfind_element\u001b[0m\u001b[1;33m(\u001b[0m\u001b[0mBy\u001b[0m\u001b[1;33m.\u001b[0m\u001b[0mXPATH\u001b[0m\u001b[1;33m,\u001b[0m \u001b[0mauthor_path\u001b[0m\u001b[1;33m)\u001b[0m\u001b[1;33m.\u001b[0m\u001b[0mtext\u001b[0m\u001b[1;33m\u001b[0m\u001b[1;33m\u001b[0m\u001b[0m\n\u001b[0m\u001b[0;32m     14\u001b[0m     \u001b[0mdate\u001b[0m \u001b[1;33m=\u001b[0m \u001b[0mbrowser\u001b[0m\u001b[1;33m.\u001b[0m\u001b[0mfind_element\u001b[0m\u001b[1;33m(\u001b[0m\u001b[0mBy\u001b[0m\u001b[1;33m.\u001b[0m\u001b[0mXPATH\u001b[0m\u001b[1;33m,\u001b[0m \u001b[0mdate_path\u001b[0m\u001b[1;33m)\u001b[0m\u001b[1;33m.\u001b[0m\u001b[0mtext\u001b[0m\u001b[1;33m\u001b[0m\u001b[1;33m\u001b[0m\u001b[0m\n\u001b[0;32m     15\u001b[0m     \u001b[1;32mtry\u001b[0m\u001b[1;33m:\u001b[0m\u001b[1;33m\u001b[0m\u001b[1;33m\u001b[0m\u001b[0m\n",
      "\u001b[1;32m~\\anaconda3\\lib\\site-packages\\selenium\\webdriver\\remote\\webdriver.py\u001b[0m in \u001b[0;36mfind_element\u001b[1;34m(self, by, value)\u001b[0m\n\u001b[0;32m    859\u001b[0m             \u001b[0mvalue\u001b[0m \u001b[1;33m=\u001b[0m \u001b[1;34m'[name=\"%s\"]'\u001b[0m \u001b[1;33m%\u001b[0m \u001b[0mvalue\u001b[0m\u001b[1;33m\u001b[0m\u001b[1;33m\u001b[0m\u001b[0m\n\u001b[0;32m    860\u001b[0m \u001b[1;33m\u001b[0m\u001b[0m\n\u001b[1;32m--> 861\u001b[1;33m         \u001b[1;32mreturn\u001b[0m \u001b[0mself\u001b[0m\u001b[1;33m.\u001b[0m\u001b[0mexecute\u001b[0m\u001b[1;33m(\u001b[0m\u001b[0mCommand\u001b[0m\u001b[1;33m.\u001b[0m\u001b[0mFIND_ELEMENT\u001b[0m\u001b[1;33m,\u001b[0m \u001b[1;33m{\u001b[0m\u001b[1;34m\"using\"\u001b[0m\u001b[1;33m:\u001b[0m \u001b[0mby\u001b[0m\u001b[1;33m,\u001b[0m \u001b[1;34m\"value\"\u001b[0m\u001b[1;33m:\u001b[0m \u001b[0mvalue\u001b[0m\u001b[1;33m}\u001b[0m\u001b[1;33m)\u001b[0m\u001b[1;33m[\u001b[0m\u001b[1;34m\"value\"\u001b[0m\u001b[1;33m]\u001b[0m\u001b[1;33m\u001b[0m\u001b[1;33m\u001b[0m\u001b[0m\n\u001b[0m\u001b[0;32m    862\u001b[0m \u001b[1;33m\u001b[0m\u001b[0m\n\u001b[0;32m    863\u001b[0m     \u001b[1;32mdef\u001b[0m \u001b[0mfind_elements\u001b[0m\u001b[1;33m(\u001b[0m\u001b[0mself\u001b[0m\u001b[1;33m,\u001b[0m \u001b[0mby\u001b[0m\u001b[1;33m=\u001b[0m\u001b[0mBy\u001b[0m\u001b[1;33m.\u001b[0m\u001b[0mID\u001b[0m\u001b[1;33m,\u001b[0m \u001b[0mvalue\u001b[0m\u001b[1;33m:\u001b[0m \u001b[0mOptional\u001b[0m\u001b[1;33m[\u001b[0m\u001b[0mstr\u001b[0m\u001b[1;33m]\u001b[0m \u001b[1;33m=\u001b[0m \u001b[1;32mNone\u001b[0m\u001b[1;33m)\u001b[0m \u001b[1;33m->\u001b[0m \u001b[0mList\u001b[0m\u001b[1;33m[\u001b[0m\u001b[0mWebElement\u001b[0m\u001b[1;33m]\u001b[0m\u001b[1;33m:\u001b[0m\u001b[1;33m\u001b[0m\u001b[1;33m\u001b[0m\u001b[0m\n",
      "\u001b[1;32m~\\anaconda3\\lib\\site-packages\\selenium\\webdriver\\remote\\webdriver.py\u001b[0m in \u001b[0;36mexecute\u001b[1;34m(self, driver_command, params)\u001b[0m\n\u001b[0;32m    442\u001b[0m         \u001b[0mresponse\u001b[0m \u001b[1;33m=\u001b[0m \u001b[0mself\u001b[0m\u001b[1;33m.\u001b[0m\u001b[0mcommand_executor\u001b[0m\u001b[1;33m.\u001b[0m\u001b[0mexecute\u001b[0m\u001b[1;33m(\u001b[0m\u001b[0mdriver_command\u001b[0m\u001b[1;33m,\u001b[0m \u001b[0mparams\u001b[0m\u001b[1;33m)\u001b[0m\u001b[1;33m\u001b[0m\u001b[1;33m\u001b[0m\u001b[0m\n\u001b[0;32m    443\u001b[0m         \u001b[1;32mif\u001b[0m \u001b[0mresponse\u001b[0m\u001b[1;33m:\u001b[0m\u001b[1;33m\u001b[0m\u001b[1;33m\u001b[0m\u001b[0m\n\u001b[1;32m--> 444\u001b[1;33m             \u001b[0mself\u001b[0m\u001b[1;33m.\u001b[0m\u001b[0merror_handler\u001b[0m\u001b[1;33m.\u001b[0m\u001b[0mcheck_response\u001b[0m\u001b[1;33m(\u001b[0m\u001b[0mresponse\u001b[0m\u001b[1;33m)\u001b[0m\u001b[1;33m\u001b[0m\u001b[1;33m\u001b[0m\u001b[0m\n\u001b[0m\u001b[0;32m    445\u001b[0m             \u001b[0mresponse\u001b[0m\u001b[1;33m[\u001b[0m\u001b[1;34m\"value\"\u001b[0m\u001b[1;33m]\u001b[0m \u001b[1;33m=\u001b[0m \u001b[0mself\u001b[0m\u001b[1;33m.\u001b[0m\u001b[0m_unwrap_value\u001b[0m\u001b[1;33m(\u001b[0m\u001b[0mresponse\u001b[0m\u001b[1;33m.\u001b[0m\u001b[0mget\u001b[0m\u001b[1;33m(\u001b[0m\u001b[1;34m\"value\"\u001b[0m\u001b[1;33m,\u001b[0m \u001b[1;32mNone\u001b[0m\u001b[1;33m)\u001b[0m\u001b[1;33m)\u001b[0m\u001b[1;33m\u001b[0m\u001b[1;33m\u001b[0m\u001b[0m\n\u001b[0;32m    446\u001b[0m             \u001b[1;32mreturn\u001b[0m \u001b[0mresponse\u001b[0m\u001b[1;33m\u001b[0m\u001b[1;33m\u001b[0m\u001b[0m\n",
      "\u001b[1;32m~\\anaconda3\\lib\\site-packages\\selenium\\webdriver\\remote\\errorhandler.py\u001b[0m in \u001b[0;36mcheck_response\u001b[1;34m(self, response)\u001b[0m\n\u001b[0;32m    247\u001b[0m                 \u001b[0malert_text\u001b[0m \u001b[1;33m=\u001b[0m \u001b[0mvalue\u001b[0m\u001b[1;33m[\u001b[0m\u001b[1;34m\"alert\"\u001b[0m\u001b[1;33m]\u001b[0m\u001b[1;33m.\u001b[0m\u001b[0mget\u001b[0m\u001b[1;33m(\u001b[0m\u001b[1;34m\"text\"\u001b[0m\u001b[1;33m)\u001b[0m\u001b[1;33m\u001b[0m\u001b[1;33m\u001b[0m\u001b[0m\n\u001b[0;32m    248\u001b[0m             \u001b[1;32mraise\u001b[0m \u001b[0mexception_class\u001b[0m\u001b[1;33m(\u001b[0m\u001b[0mmessage\u001b[0m\u001b[1;33m,\u001b[0m \u001b[0mscreen\u001b[0m\u001b[1;33m,\u001b[0m \u001b[0mstacktrace\u001b[0m\u001b[1;33m,\u001b[0m \u001b[0malert_text\u001b[0m\u001b[1;33m)\u001b[0m  \u001b[1;31m# type: ignore[call-arg]  # mypy is not smart enough here\u001b[0m\u001b[1;33m\u001b[0m\u001b[1;33m\u001b[0m\u001b[0m\n\u001b[1;32m--> 249\u001b[1;33m         \u001b[1;32mraise\u001b[0m \u001b[0mexception_class\u001b[0m\u001b[1;33m(\u001b[0m\u001b[0mmessage\u001b[0m\u001b[1;33m,\u001b[0m \u001b[0mscreen\u001b[0m\u001b[1;33m,\u001b[0m \u001b[0mstacktrace\u001b[0m\u001b[1;33m)\u001b[0m\u001b[1;33m\u001b[0m\u001b[1;33m\u001b[0m\u001b[0m\n\u001b[0m",
      "\u001b[1;31mNoSuchElementException\u001b[0m: Message: no such element: Unable to locate element: {\"method\":\"xpath\",\"selector\":\"/html/body/div[11]/div/div/div[2]/div[2]/div[2]/div/div[1]/div[2]/div[2]/div/div[3]/div[2]/div[9994]/div/div[1]/div[2]/div[1]/div/h5/a/span\"}\n  (Session info: chrome=114.0.5735.110)\nStacktrace:\nBacktrace:\n\tGetHandleVerifier [0x005BA813+48355]\n\t(No symbol) [0x0054C4B1]\n\t(No symbol) [0x00455358]\n\t(No symbol) [0x004809A5]\n\t(No symbol) [0x00480B3B]\n\t(No symbol) [0x004AE232]\n\t(No symbol) [0x0049A784]\n\t(No symbol) [0x004AC922]\n\t(No symbol) [0x0049A536]\n\t(No symbol) [0x004782DC]\n\t(No symbol) [0x004793DD]\n\tGetHandleVerifier [0x0081AABD+2539405]\n\tGetHandleVerifier [0x0085A78F+2800735]\n\tGetHandleVerifier [0x0085456C+2775612]\n\tGetHandleVerifier [0x006451E0+616112]\n\t(No symbol) [0x00555F8C]\n\t(No symbol) [0x00552328]\n\t(No symbol) [0x0055240B]\n\t(No symbol) [0x00544FF7]\n\tBaseThreadInitThunk [0x76B100C9+25]\n\tRtlGetAppContainerNamedObjectPath [0x76EC7B4E+286]\n\tRtlGetAppContainerNamedObjectPath [0x76EC7B1E+238]\n"
     ]
    }
   ],
   "source": [
    "for i in range(2, 10000):\n",
    "    sleep(np.random.uniform(0.1, 0.5))\n",
    "    \n",
    "    post_path = f'/html/body/div[11]/div/div/div[2]/div[2]/div[2]/div/div[1]/div[2]/div[2]/div/div[3]/div[2]/div[{i}]'\n",
    "    author_path = f'/html/body/div[11]/div/div/div[2]/div[2]/div[2]/div/div[1]/div[2]/div[2]/div/div[3]/div[2]/div[{i}]/div/div[1]/div[2]/div[1]/div/h5/a/span'\n",
    "    text_path = f'/html/body/div[11]/div/div/div[2]/div[2]/div[2]/div/div[1]/div[2]/div[2]/div/div[3]/div[2]/div[{i}]/div/div[2]/div/div[1]/div/div'\n",
    "    date_path = f'/html/body/div[11]/div/div/div[2]/div[2]/div[2]/div/div[1]/div[2]/div[2]/div/div[3]/div[2]/div[{i}]/div/div[1]/div[2]/div[2]/a/time'\n",
    "    likes_path = f'/html/body/div[11]/div/div/div[2]/div[2]/div[2]/div/div[1]/div[2]/div[2]/div/div[3]/div[2]/div[{i}]/div/div[2]/div/div[2]/div/div/div[1]/div[1]/span[3]/div'\n",
    "    reposts_path = f'/html/body/div[11]/div/div/div[2]/div[2]/div[2]/div/div[1]/div[2]/div[2]/div/div[3]/div[2]/div[{i}]/div/div[2]/div/div[2]/div/div/div[2]/span[3]'\n",
    "    is_repost_path = f'/html/body/div[11]/div/div/div[2]/div[2]/div[2]/div/div[1]/div[2]/div[2]/div/div[3]/div[2]/div[{i}]/div/div[2]/div/div[1]/div[2]'\n",
    "    with_photo_path = f'/html/body/div[11]/div/div/div[2]/div[2]/div[2]/div/div[1]/div[2]/div[2]/div/div[3]/div[2]/div[{i}]/div/div[2]/div/div[1]/div/div/div/div/div/img'\n",
    "    \n",
    "    author = browser.find_element(By.XPATH, author_path).text\n",
    "    date = browser.find_element(By.XPATH, date_path).text\n",
    "    try:\n",
    "        text = browser.find_element(By.XPATH, text_path).text #на случай если нет текста\n",
    "    except:\n",
    "        continue\n",
    "    n_likes = ''.join(browser.find_element(By.XPATH, likes_path).text.split())\n",
    "    n_reposts = ''.join(browser.find_element(By.XPATH, reposts_path).text.split())\n",
    "    if n_likes == '': # наслучай если 0 лайков\n",
    "        n_likes = 0\n",
    "    else:\n",
    "        n_likes = int(n_likes)\n",
    "        \n",
    "    if n_reposts == '': #на случай, если 0 репостов\n",
    "        n_reposts = 0\n",
    "    else:\n",
    "        n_reposts = int(n_reposts)\n",
    "    try: # проверяет налличие картинки в посте\n",
    "        browser.find_element(By.XPATH, with_photo_path).screenshot(f'screenshots\\photo{i - 2}.png')\n",
    "        with_photo = True\n",
    "    except:\n",
    "        with_photo = False\n",
    "    try: # проверяет, является ли пост репостом другого поста\n",
    "        browser.find_element(By.XPATH, is_repost_path)\n",
    "        is_repost = True\n",
    "    except:\n",
    "        is_repost = False\n",
    "    \n",
    "    df.loc[i - 2] = [author, date, text, n_likes, n_reposts, with_photo, is_repost]\n",
    "    df.to_csv('vk_data\\data.csv')\n",
    "    \n",
    "    action_chains.scroll_by_amount(0,500).perform()\n",
    "    \n",
    "    print(i - 2) # это просто чтобы видно было, как продвигается сбор данных"
   ]
  }
 ],
 "metadata": {
  "kernelspec": {
   "display_name": "Python 3 (ipykernel)",
   "language": "python",
   "name": "python3"
  },
  "language_info": {
   "codemirror_mode": {
    "name": "ipython",
    "version": 3
   },
   "file_extension": ".py",
   "mimetype": "text/x-python",
   "name": "python",
   "nbconvert_exporter": "python",
   "pygments_lexer": "ipython3",
   "version": "3.9.7"
  }
 },
 "nbformat": 4,
 "nbformat_minor": 5
}
